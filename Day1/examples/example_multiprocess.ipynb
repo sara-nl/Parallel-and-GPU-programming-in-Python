{
 "cells": [
  {
   "cell_type": "markdown",
   "id": "152e8441",
   "metadata": {},
   "source": [
    "# Matrix Multiplication parallelization example "
   ]
  },
  {
   "cell_type": "code",
   "execution_count": 35,
   "id": "e5a8152f",
   "metadata": {},
   "outputs": [
    {
     "name": "stdout",
     "output_type": "stream",
     "text": [
      "Overwriting pool_example.py\n"
     ]
    }
   ],
   "source": [
    "%%writefile pool_example.py\n",
    "import numpy as np\n",
    "import time\n",
    "from random import random\n",
    "from multiprocessing import Pool\n",
    "from functools import partial\n",
    "\n",
    "def explicit_matmul(A,B):\n",
    "    #A[m][n]\n",
    "    #B[n][p]\n",
    "    #C[m][p]    \n",
    "    C_temp = [[0 for x in range(np.shape(A)[0])] for y in range(np.shape(B)[1])]\n",
    "    for i in range(np.shape(A)[0]): #(i=1...m) Rows in A\n",
    "        for j in range(np.shape(B)[1]): # (j=1...p) Columns in B\n",
    "            for k in range(np.shape(A)[1]): # (k=1...n) Columns in A\n",
    "                C_temp[i][j] += A[i][k] * B[k][j]\n",
    "    return(C_temp)\n",
    " \n",
    "def explicit_matmul_process(A,B,C,k):\n",
    "    #A[m][n]\n",
    "    #B[n][p]\n",
    "    #C[m][p]\n",
    "    C_temp = [[0 for x in range(np.shape(A)[0])] for y in range(np.shape(B)[1])]\n",
    "    for i in range(np.shape(A)[0]): #(i=1...m) Rows in A\n",
    "        for j in range(np.shape(B)[1]): # (j=1...p) Columns in B\n",
    "            #for k in range(np.shape(A)[1]): # (k=1...n) Columns in A\n",
    "            C_temp[i][j] += A[i][k] * B[k][j]\n",
    "    return(C_temp)\n",
    " \n",
    "if __name__ == '__main__':\n",
    "     \n",
    "    nprocs= 3\n",
    "    print(nprocs)\n",
    "     \n",
    "    AX=AY=BX=BY=150\n",
    "    print(\"Making Matricies\")\n",
    "    \n",
    "    A = [[random() for x in range(AX)] for y in range(AY)]\n",
    "    B = [[random() for x in range(BX)] for y in range(BY)]\n",
    "    C = [[0 for x in range(np.shape(A)[0])] for y in range(np.shape(B)[1])]\n",
    "\n",
    "    print(\"starting procs\")\n",
    "    start_thread = time.perf_counter()\n",
    "    \n",
    "    ##################################################################\n",
    "    ##################################################################\n",
    "    ##################################################################\n",
    "    ## this specific example is trying to get you to use the pool.map method\n",
    "    \n",
    "    #1: You need to create a pool of process\n",
    "    \n",
    "    pool = Pool(nprocs)\n",
    "\n",
    "    #2: Create an iterable for the processes to work on\n",
    "    \n",
    "    iter_procs = [i for i in range(AX)]\n",
    "\n",
    "    #3: Use the partial method from functools to create a \"new\" function with only 1 Iterable argument!\n",
    "    ###   Partial allow us to fix a certain number of arguments of a function and generate a new function.\n",
    "    ###   WE need this because pool.map() only excepts a function and an iterable argument for that function\n",
    "                \n",
    "    new_function = partial(explicit_matmul_process,A,B,C)\n",
    "                           \n",
    "    #4: Start the processes using the pool.map()\n",
    "    \n",
    "    results = pool.map(new_function,iter_procs)\n",
    "\n",
    "    #5: Make sure no more processes are submitted to pool\n",
    "    pool.close()\n",
    "    \n",
    "    #6: Wait for the worker processes to finish  \n",
    "    pool.join()\n",
    "                           \n",
    "    #7: Make sure results are put back to gether and correct!!!\n",
    "    ### this is the more difficult step\n",
    "    ### HINT: use np.sum!\n",
    "                           \n",
    "    C_parallel = np.sum(results,axis=0)\n",
    "    \n",
    "    ##################################################################\n",
    "    ##################################################################\n",
    "    ##################################################################\n",
    "    \n",
    "    end_thread = time.perf_counter()\n",
    "    print(\"Thread mult: \",end_thread -start_thread)\n",
    " \n",
    "    start_explicit = time.perf_counter()\n",
    "    C_explicit = explicit_matmul(A,B)\n",
    "    end_explicit  = time.perf_counter()\n",
    "    print(\"Explicit mult: \",end_explicit - start_explicit)\n",
    "     \n",
    "    start_np = time.perf_counter()\n",
    "    C_np = np.matmul(A,B)\n",
    "    end_np  = time.perf_counter()\n",
    "    print(\"NumPy  matmul: \",end_np -start_np)\n",
    "     \n",
    "    if not np.allclose(C_explicit, C_parallel, rtol=1e-10, atol=1e-10):\n",
    "        print(\"C_parallel is not equal to C_explicit!!\")\n",
    "    if not np.allclose(C_parallel, C_np, rtol=1e-10, atol=1e-10):\n",
    "        print(\"C_parallel is not equal to C_np!!\")\n",
    "    if not np.allclose(C_explicit, C_np, rtol=1e-10, atol=1e-10):\n",
    "        print(\"C_np is not equal to C_explicit!!\")"
   ]
  },
  {
   "cell_type": "code",
   "execution_count": null,
   "id": "2f3c8854",
   "metadata": {},
   "outputs": [
    {
     "name": "stdout",
     "output_type": "stream",
     "text": [
      "3\n",
      "Making Matricies\n",
      "starting procs\n"
     ]
    }
   ],
   "source": [
    "!python pool_example.py"
   ]
  },
  {
   "cell_type": "markdown",
   "id": "bf746487",
   "metadata": {},
   "source": [
    "### Submit a job to the batch system if you want to use more that 3 cores!"
   ]
  },
  {
   "cell_type": "code",
   "execution_count": 10,
   "id": "160cda34",
   "metadata": {},
   "outputs": [
    {
     "name": "stdout",
     "output_type": "stream",
     "text": [
      "Overwriting python_job.sh\n"
     ]
    }
   ],
   "source": [
    "%%writefile python_job.sh\n",
    "#!/bin/bash\n",
    "#SBATCH -n 16\n",
    "#SBATCH -p normal\n",
    "#SBATCH -t 00:30:00\n",
    "\n",
    "\n",
    "module load 2021 SciPy-bundle/2021.05-foss-2021a\n",
    "\n",
    "python pool_example.py\n",
    "\n"
   ]
  },
  {
   "cell_type": "code",
   "execution_count": 11,
   "id": "7b85dbaf",
   "metadata": {},
   "outputs": [
    {
     "name": "stdout",
     "output_type": "stream",
     "text": [
      "Submitted batch job 8957934\r\n"
     ]
    }
   ],
   "source": [
    "!sbatch python_job.sh"
   ]
  }
 ],
 "metadata": {
  "kernelspec": {
   "display_name": "Python 3 (ipykernel)",
   "language": "python",
   "name": "python3"
  },
  "language_info": {
   "codemirror_mode": {
    "name": "ipython",
    "version": 3
   },
   "file_extension": ".py",
   "mimetype": "text/x-python",
   "name": "python",
   "nbconvert_exporter": "python",
   "pygments_lexer": "ipython3",
   "version": "3.9.5"
  }
 },
 "nbformat": 4,
 "nbformat_minor": 5
}
