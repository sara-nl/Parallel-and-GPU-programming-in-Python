{
 "cells": [
  {
   "cell_type": "code",
   "execution_count": 1,
   "id": "e5a8152f",
   "metadata": {},
   "outputs": [
    {
     "name": "stdout",
     "output_type": "stream",
     "text": [
      "Overwriting pool_example.py\n"
     ]
    }
   ],
   "source": [
    "%%writefile pool_example.py\n",
    "import numpy as np\n",
    "import time\n",
    "from random import random\n",
    "from multiprocessing import Pool\n",
    "from functools import partial\n",
    "\n",
    "\n",
    "def explicit_matmul(A,B):\n",
    "    #A[m][n]\n",
    "    #B[n][p]\n",
    "    #C[m][p]    \n",
    "    C_temp = np.zeros((np.shape(A)[0],np.shape(A)[1]))    \n",
    "    for i in range(np.shape(A)[0]): #(i=1...m) Rows in A\n",
    "        for j in range(np.shape(B)[1]): # (j=1...p) Columns in B\n",
    "            for k in range(np.shape(A)[1]): # (k=1...n) Columns in A\n",
    "                C_temp[i][j] += A[i][k] * B[k][j]\n",
    "    return(C_temp)\n",
    " \n",
    "def explicit_matmul_thread(A,B,C,k):\n",
    "    #A[m][n]\n",
    "    #B[n][p]\n",
    "    #C[m][p]\n",
    "    C_temp = np.zeros((np.shape(A)[0],np.shape(A)[1]))\n",
    "    for i in range(np.shape(A)[0]): #(i=1...m) Rows in A\n",
    "        for j in range(np.shape(B)[1]): # (j=1...p) Columns in B\n",
    "            #for k in range(np.shape(A)[1]): # (k=1...n) Columns in A\n",
    "            C_temp[i][j] += A[i][k] * B[k][j]\n",
    "    return(C_temp)\n",
    " \n",
    "if __name__ == '__main__':\n",
    "     \n",
    "    nprocs= 16\n",
    "    print(nprocs)\n",
    "     \n",
    "    AX=AY=BX=BY=800\n",
    "    print(\"Making Matricies\")\n",
    "    A = np.random.rand(AX,AY)\n",
    "    B = np.random.rand(BX,BY)\n",
    "    C = np.zeros((AX,AY))\n",
    "    print(\"starting procs\")\n",
    "    start_thread = time.perf_counter()\n",
    "    pool = Pool(nprocs)\n",
    "    iter_procs = [i for i in range(AX)]\n",
    " \n",
    "    C_parallel = pool.map(partial(explicit_matmul_thread,A,B,C),iter_procs)\n",
    "    #you need to build C_parallel back again)\n",
    "    C_parallel = np.sum(C_parallel,axis=0)\n",
    " \n",
    "    pool.close() # Make sure no more processes are submitted to pool\n",
    "    pool.join() # Wait for the worker processes to finish    \n",
    "    end_thread = time.perf_counter()\n",
    "    print(\"Thread mult: \",end_thread -start_thread)\n",
    " \n",
    "    start_explicit = time.perf_counter()\n",
    "    C_explicit = explicit_matmul(A,B)\n",
    "    end_explicit  = time.perf_counter()\n",
    "    print(\"Explicit mult: \",end_explicit - start_explicit)\n",
    "     \n",
    "    start_np = time.perf_counter()\n",
    "    C_np = np.matmul(A,B)\n",
    "    end_np  = time.perf_counter()\n",
    "    print(\"NumPy  matmul: \",end_np -start_np)\n",
    "     \n",
    "    if not np.allclose(C_explicit, C_parallel, rtol=1e-10, atol=1e-10):\n",
    "        print(\"C_parallel is not equal to C_explicit!!\")\n",
    "    if not np.allclose(C_parallel, C_np, rtol=1e-10, atol=1e-10):\n",
    "        print(\"C_parallel is not equal to C_np!!\")\n",
    "    if not np.allclose(C_explicit, C_np, rtol=1e-10, atol=1e-10):\n",
    "        print(\"C_np is not equal to C_explicit!!\")"
   ]
  },
  {
   "cell_type": "code",
   "execution_count": null,
   "id": "2f3c8854",
   "metadata": {},
   "outputs": [
    {
     "name": "stdout",
     "output_type": "stream",
     "text": [
      "16\n",
      "Making Matricies\n",
      "starting procs\n"
     ]
    }
   ],
   "source": [
    "!python pool_example.py"
   ]
  },
  {
   "cell_type": "code",
   "execution_count": 1,
   "id": "1c4fbd45",
   "metadata": {},
   "outputs": [
    {
     "name": "stdout",
     "output_type": "stream",
     "text": [
      "r29n1.lisa.surfsara.nl\r\n"
     ]
    }
   ],
   "source": [
    "!hostname"
   ]
  },
  {
   "cell_type": "code",
   "execution_count": 43,
   "id": "f4f30670",
   "metadata": {},
   "outputs": [
    {
     "data": {
      "text/plain": [
       "10.680906148867315"
      ]
     },
     "execution_count": 43,
     "metadata": {},
     "output_type": "execute_result"
    }
   ],
   "source": [
    "99.012/9.27"
   ]
  },
  {
   "cell_type": "code",
   "execution_count": 14,
   "id": "91ac419f",
   "metadata": {},
   "outputs": [
    {
     "name": "stdout",
     "output_type": "stream",
     "text": [
      "EBDEVELGOMPI=/sw/arch/Debian10/EB_production/2021/software/gompi/2021a/easybuild/gompi-2021a-easybuild-devel\r\n",
      "OMPI_MCA_orte_tmpdir_base=/dev/shm/\r\n",
      "EBROOTGOMPI=/sw/arch/Debian10/EB_production/2021/software/gompi/2021a\r\n",
      "EBVERSIONGOMPI=2021a\r\n"
     ]
    }
   ],
   "source": [
    "!env | grep \"OMP\""
   ]
  },
  {
   "cell_type": "code",
   "execution_count": 10,
   "id": "160cda34",
   "metadata": {},
   "outputs": [
    {
     "name": "stdout",
     "output_type": "stream",
     "text": [
      "Overwriting python_job.sh\n"
     ]
    }
   ],
   "source": [
    "%%writefile python_job.sh\n",
    "#!/bin/bash\n",
    "#SBATCH -n 16\n",
    "#SBATCH -p normal\n",
    "#SBATCH -t 00:30:00\n",
    "\n",
    "\n",
    "module load 2021 SciPy-bundle/2021.05-foss-2021a\n",
    "\n",
    "python pool_example.py\n",
    "\n"
   ]
  },
  {
   "cell_type": "code",
   "execution_count": 17,
   "id": "64631777",
   "metadata": {},
   "outputs": [
    {
     "name": "stdout",
     "output_type": "stream",
     "text": [
      "/home/lcur1225/Untitled Folder\n",
      "pool_example.py  slurm-8957708.out  slurm-8957930.out  Untitled.ipynb\n",
      "python_job.sh\t slurm-8957924.out  slurm-8957934.out\n"
     ]
    }
   ],
   "source": [
    "!pwd\n",
    "!ls"
   ]
  },
  {
   "cell_type": "code",
   "execution_count": 11,
   "id": "7b85dbaf",
   "metadata": {},
   "outputs": [
    {
     "name": "stdout",
     "output_type": "stream",
     "text": [
      "Submitted batch job 8957934\r\n"
     ]
    }
   ],
   "source": [
    "!sbatch python_job.sh"
   ]
  },
  {
   "cell_type": "code",
   "execution_count": 16,
   "id": "35cf7de2",
   "metadata": {},
   "outputs": [
    {
     "name": "stdout",
     "output_type": "stream",
     "text": [
      "             JOBID PARTITION     NAME     USER ST       TIME  NODES NODELIST(REASON)\r\n",
      "           8957929 gpu_titan hub-jhls lcur1225  R      11:58      1 r29n1\r\n",
      "           8957934    normal python_j lcur1225  R       7:23      1 r25n12\r\n"
     ]
    }
   ],
   "source": [
    "!squeue -u lcur1225"
   ]
  },
  {
   "cell_type": "code",
   "execution_count": 18,
   "id": "8b89333a",
   "metadata": {},
   "outputs": [
    {
     "name": "stdout",
     "output_type": "stream",
     "text": [
      "16\r\n",
      "Making Matricies\r\n",
      "starting procs\r\n",
      "Thread mult:  39.26104412204586\r\n",
      "Explicit mult:  407.6354851019569\r\n",
      "NumPy  matmul:  0.06795122602488846\r\n"
     ]
    }
   ],
   "source": [
    "!cat slurm-8957934.out"
   ]
  },
  {
   "cell_type": "code",
   "execution_count": 20,
   "id": "505f0190",
   "metadata": {},
   "outputs": [
    {
     "name": "stdout",
     "output_type": "stream",
     "text": [
      "Writing communicator.py\n"
     ]
    }
   ],
   "source": [
    "%%writefile communicator.py\n",
    "from mpi4py import MPI\n",
    "\n",
    "comm = MPI.COMM_WORLD\n",
    "size = comm.Get_size()\n",
    "rank = comm.Get_rank()\n",
    "\n",
    "print('Number of processes is %i.' %size)\n",
    "print('Hello, I am process %i.' % rank)"
   ]
  },
  {
   "cell_type": "code",
   "execution_count": 2,
   "id": "d0fa9fc7",
   "metadata": {},
   "outputs": [
    {
     "name": "stdout",
     "output_type": "stream",
     "text": [
      "Number of processes is 10.\r\n",
      "Hello, I am process 7.\r\n",
      "Number of processes is 10.\r\n",
      "Hello, I am process 2.\r\n",
      "Number of processes is 10.\r\n",
      "Hello, I am process 4.\r\n",
      "Number of processes is 10.\r\n",
      "Hello, I am process 1.\r\n",
      "Number of processes is 10.\r\n",
      "Hello, I am process 6.\r\n",
      "Number of processes is 10.\r\n",
      "Hello, I am process 3.\r\n",
      "Number of processes is 10.\r\n",
      "Hello, I am process 5.\r\n",
      "Number of processes is 10.\r\n",
      "Hello, I am process 8.\r\n",
      "Number of processes is 10.\r\n",
      "Hello, I am process 9.\r\n",
      "Number of processes is 10.\r\n",
      "Hello, I am process 0.\r\n"
     ]
    }
   ],
   "source": [
    "!mpirun --oversubscribe -np 10 python communicator.py"
   ]
  },
  {
   "cell_type": "code",
   "execution_count": null,
   "id": "b230c0d8",
   "metadata": {},
   "outputs": [],
   "source": []
  }
 ],
 "metadata": {
  "kernelspec": {
   "display_name": "Python 3 (ipykernel)",
   "language": "python",
   "name": "python3"
  },
  "language_info": {
   "codemirror_mode": {
    "name": "ipython",
    "version": 3
   },
   "file_extension": ".py",
   "mimetype": "text/x-python",
   "name": "python",
   "nbconvert_exporter": "python",
   "pygments_lexer": "ipython3",
   "version": "3.9.5"
  }
 },
 "nbformat": 4,
 "nbformat_minor": 5
}
