{
 "cells": [
  {
   "cell_type": "markdown",
   "id": "a5df0148",
   "metadata": {},
   "source": [
    "# MPI Matrix Multiplication example"
   ]
  },
  {
   "cell_type": "code",
   "execution_count": 11,
   "id": "21b28e33",
   "metadata": {},
   "outputs": [
    {
     "name": "stdout",
     "output_type": "stream",
     "text": [
      "Overwriting mpi_matmul.py\n"
     ]
    }
   ],
   "source": [
    "%%writefile mpi_matmul.py\n",
    "#!/usr/bin/env python\n",
    "import numpy as np\n",
    "from mpi4py import MPI\n",
    "import math\n",
    " \n",
    "def explicit_matmul(A,B):\n",
    "    #A[m][n]\n",
    "    #B[n][p]\n",
    "    #C[m][p]   \n",
    "    C_temp = [[0 for x in range(np.shape(A)[0])] for y in range(np.shape(B)[1])]\n",
    "    for i in range(np.shape(A)[0]): #(i=1...m) Rows in A\n",
    "        for j in range(np.shape(B)[1]): # (j=1...p) Columns in B\n",
    "            for k in range(np.shape(A)[1]): # (k=1...n) Columns in A\n",
    "                C_temp[i][j] += A[i][k] * B[k][j]\n",
    "    return(C_temp)\n",
    "  \n",
    "def explicit_matmul_mpi(A,B,rank,size):\n",
    "    #A[m][n]\n",
    "    #B[n][p]\n",
    "    #C[m][p]\n",
    "    C_temp = [[0 for x in range(np.shape(A)[0])] for y in range(np.shape(B)[1])]\n",
    "    for i in range(np.shape(A)[0]): #(i=1...m) Rows in A\n",
    "        for j in range(np.shape(B)[1]): # (j=1...p) Columns in B\n",
    "            step = math.floor(np.shape(A)[1]/size)\n",
    "            if (np.shape(A)[1]/size % 1 != 0) and (rank == size-1):\n",
    "                for k in range(rank*step,np.shape(A)[1]):\n",
    "                    C_temp[i][j] += A[i][k] * B[k][j]\n",
    "            else:\n",
    "                for k in range(rank*step,rank*step+step):\n",
    "                    C_temp[i][j] += A[i][k] * B[k][j]\n",
    "             \n",
    "    return(C_temp)\n",
    " \n",
    "\n",
    "t1_mpi = MPI.Wtime()\n",
    "##################################################################\n",
    "##################################################################\n",
    "##################################################################\n",
    "\n",
    "\n",
    "#1: initiate the communicator\n",
    "comm = MPI.COMM_WORLD\n",
    "\n",
    "#2: Initialize the arrays A,B... Since we are using np.random, they will not be the same per rank!!!\n",
    "if comm.Get_rank() == 0:\n",
    "    AX=AY=BX=BY=100\n",
    "    A = np.random.rand(AX,AY)\n",
    "    B = np.random.rand(BX,BY)\n",
    "else:\n",
    "    A = None\n",
    "    B = None\n",
    "    \n",
    "#3: Broadcast them to the other ranks!\n",
    "A = comm.bcast(A,root=0)\n",
    "B = comm.bcast(B,root=0)\n",
    " \n",
    "if comm.Get_rank() == 0:\n",
    "    print(\"============================================================================\")\n",
    "    print(\"Performing Matrix Multiplication of two matricies of size (%d,%d)\" % (AX,AY) )\n",
    "    print(\"Using %d parallel MPI processes\" % comm.Get_size())\n",
    "     \n",
    "#4: calc matrix multiply for each rank\n",
    "result = explicit_matmul_mpi(A,B,comm.Get_rank(),comm.Get_size())\n",
    " \n",
    "#5: \"Gather\" the results from the ranks and Make sure results are put back together and correctly!!!\n",
    "### HINT: use np.sum! \n",
    "C_mpi_parallel = comm.gather(result)\n",
    "C_mpi_parallel = np.sum(C_mpi_parallel,axis=0)\n",
    "\n",
    "##################################################################\n",
    "##################################################################\n",
    "##################################################################\n",
    " \n",
    "t2_mpi = MPI.Wtime()\n",
    " \n",
    "if comm.Get_rank() == 0:\n",
    "    print(\"============================================================================\")\n",
    "        \n",
    "    t1_explicit = MPI.Wtime()\n",
    "    C_explicit = explicit_matmul(A,B)\n",
    "    t2_explicit = MPI.Wtime()\n",
    " \n",
    "    t1_numpy = MPI.Wtime()\n",
    "    C_np = np.matmul(A,B)\n",
    "    t2_numpy = MPI.Wtime()\n",
    " \n",
    "    if not np.allclose(C_explicit, C_mpi_parallel, rtol=1e-10, atol=1e-10):\n",
    "        print(\"C_parallel is not equal to C_explicit!!\")\n",
    "    if not np.allclose(C_mpi_parallel, C_np, rtol=1e-10, atol=1e-10):\n",
    "        print(\"C_parallel is not equal to C_np!!\")\n",
    "    if not np.allclose(C_explicit, C_np, rtol=1e-10, atol=1e-10):\n",
    "        print(\"C_np is not equal to C_explicit!!\")\n",
    "     \n",
    "    print(\"Performance=======\")\n",
    "    print(\"explicit: \",t2_explicit-t1_explicit)\n",
    "    print(\"MPI: \",t2_mpi-t1_mpi)\n",
    "    print(\"numpy matmul: \",t2_numpy-t1_numpy)"
   ]
  },
  {
   "cell_type": "code",
   "execution_count": null,
   "id": "097adc6f",
   "metadata": {},
   "outputs": [],
   "source": [
    "!mpirun -np 3 --oversubscribe python3 mpi_matmul.py"
   ]
  },
  {
   "cell_type": "markdown",
   "id": "57319cbf",
   "metadata": {},
   "source": [
    "### submit it to the queue"
   ]
  },
  {
   "cell_type": "code",
   "execution_count": null,
   "id": "c06afd07",
   "metadata": {},
   "outputs": [],
   "source": [
    "%%writefile mpi_jobscript.sh\n",
    "#!/bin/bash\n",
    "\n",
    "#SBATCH -n 96\n",
    "#SBATCH -p normal\n",
    "#SBATCH -t 00:30:00\n",
    "\n",
    "module load 2021\n",
    "module load SciPy-bundle/2021.05-foss-2021a\n",
    "\n",
    "mpirun -np 96 --oversubscribe python3 mpi_matmult.py"
   ]
  }
 ],
 "metadata": {
  "kernelspec": {
   "display_name": "Python 3 (ipykernel)",
   "language": "python",
   "name": "python3"
  },
  "language_info": {
   "codemirror_mode": {
    "name": "ipython",
    "version": 3
   },
   "file_extension": ".py",
   "mimetype": "text/x-python",
   "name": "python",
   "nbconvert_exporter": "python",
   "pygments_lexer": "ipython3",
   "version": "3.9.5"
  }
 },
 "nbformat": 4,
 "nbformat_minor": 5
}
