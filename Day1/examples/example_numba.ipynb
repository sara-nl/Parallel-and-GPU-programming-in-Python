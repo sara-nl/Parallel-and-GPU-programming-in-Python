{
 "cells": [
  {
   "cell_type": "markdown",
   "id": "95c4a2b8",
   "metadata": {},
   "source": [
    "# Numba\n",
    "\n",
    "[Numba](https://numba.pydata.org/numba-doc/dev/user/overview.html) is a compiler for Python array and numerical functions that gives you the power to speed up your applications with high performance functions written directly in Python.\n",
    "\n",
    "Numba generates optimized machine code from pure Python code using the LLVM compiler infrastructure. With a few simple annotations, array-oriented and math-heavy Python code can be just-in-time optimized to performance similar as C, C++ and Fortran, without having to switch languages or Python interpreters.\n",
    "\n",
    "Numba’s main features are:\n",
    "\n",
    "* on-the-fly code generation (at import time or runtime, at the user’s preference)\n",
    "\n",
    "* native code generation for the CPU (default) and GPU hardware\n",
    "\n",
    "* integration with the Python scientific software stack (thanks to Numpy)"
   ]
  },
  {
   "cell_type": "markdown",
   "id": "8bed8843",
   "metadata": {},
   "source": [
    "## Compiling Python code with `@jit`"
   ]
  },
  {
   "cell_type": "markdown",
   "id": "94dd0e10",
   "metadata": {},
   "source": [
    "### Lazy compilation\n",
    "The recommended way to use the `@jit` decorator is to let Numba decide when and how to optimize:"
   ]
  },
  {
   "cell_type": "code",
   "execution_count": 8,
   "id": "25db579a",
   "metadata": {},
   "outputs": [
    {
     "name": "stdout",
     "output_type": "stream",
     "text": [
      "210 ns ± 3.48 ns per loop (mean ± std. dev. of 7 runs, 1000000 loops each)\n"
     ]
    }
   ],
   "source": [
    "from numba import jit\n",
    "\n",
    "@jit\n",
    "def sum(x, y):\n",
    "    return x + y\n",
    "\n",
    "%timeit sum(2,2)"
   ]
  },
  {
   "cell_type": "markdown",
   "id": "2ae48a41",
   "metadata": {},
   "source": [
    "In this mode, compilation will be deferred until the first function execution. Numba will infer the argument types at call time, and generate optimized code based on this information. Numba will also be able to compile separate specializations depending on the input types. For example, calling the `f()` function above with integer or complex numbers will generate different code paths:"
   ]
  },
  {
   "cell_type": "markdown",
   "id": "e11cbcbd",
   "metadata": {},
   "source": [
    "### Eager compilation\n",
    "\n",
    "You can also tell Numba the function signature you are expecting. The function f() would now look like:"
   ]
  },
  {
   "cell_type": "code",
   "execution_count": 13,
   "id": "4830603b",
   "metadata": {},
   "outputs": [
    {
     "name": "stdout",
     "output_type": "stream",
     "text": [
      "202 ns ± 0.169 ns per loop (mean ± std. dev. of 7 runs, 1000000 loops each)\n"
     ]
    }
   ],
   "source": [
    "@jit('int8(int8,int8)')\n",
    "def sum(x, y):\n",
    "    return x + y\n",
    "\n",
    "%timeit sum(2,2)"
   ]
  },
  {
   "cell_type": "markdown",
   "id": "662319f3",
   "metadata": {},
   "source": [
    "In this case, the corresponding specialization will be compiled by the `@jit` decorator, and no other specialization will be allowed. This is useful if you want fine-grained control over types chosen by the compiler (for example, to use single-precision floats)."
   ]
  },
  {
   "cell_type": "markdown",
   "id": "5f61a80f",
   "metadata": {},
   "source": [
    "### Signature specifications\n",
    "\n",
    "Explicit `@jit` signatures can use a number of types. Here are some common ones:\n",
    "\n",
    "- `void` is the return type of functions returning nothing (which actually return None when called from Python)\n",
    "- `intp` and `uintp` are pointer-sized integers (signed and unsigned, respectively)\n",
    "- `intc` and `uintc` are equivalent to C int and unsigned int integer types\n",
    "- `int8`, `uint8`, `int16`, `uint16`, `int32`, `uint32`, `int64`, `uint64` are fixed-width integers of the corresponding bit width (signed and unsigned)\n",
    "- `float32` and `float64` are single- and double-precision floating-point numbers, respectively\n",
    "- `complex64` and `complex128` are single- and double-precision complex numbers, respectively\n",
    "- array types can be specified by indexing any numeric type, e.g. `float32[:]` for a one-dimensional single-precision array or `int8[:,:]` for a two-dimensional array of 8-bit integers."
   ]
  },
  {
   "cell_type": "markdown",
   "id": "a13dff4b",
   "metadata": {},
   "source": [
    "### Compilation options\n",
    "\n",
    "There are a number of keyword-only arguments can be passed to the `@jit` decorator."
   ]
  },
  {
   "cell_type": "markdown",
   "id": "e7bf8aa8",
   "metadata": {},
   "source": [
    "#### nopython\n",
    "\n",
    "Numba has two compilation modes: `nopython` mode and `object` mode. The former produces much faster code, but has limitations that can force Numba to fall back to the latter. To prevent Numba from falling back, and instead raise an error, pass `nopython=True`."
   ]
  },
  {
   "cell_type": "code",
   "execution_count": 14,
   "id": "9402b8c0",
   "metadata": {},
   "outputs": [
    {
     "name": "stdout",
     "output_type": "stream",
     "text": [
      "190 ns ± 0.257 ns per loop (mean ± std. dev. of 7 runs, 10000000 loops each)\n"
     ]
    }
   ],
   "source": [
    "@jit(nopython=True)\n",
    "def sum(x, y):\n",
    "    return x + y\n",
    "\n",
    "%timeit sum(2,2)"
   ]
  },
  {
   "cell_type": "markdown",
   "id": "c60b3473",
   "metadata": {},
   "source": [
    "#### nogil\n",
    "\n",
    "Whenever Numba optimizes Python code to native code that only works on native types and variables (rather than Python objects), it is not necessary anymore to hold Python’s global interpreter lock (GIL). Numba will release the GIL when entering such a compiled function if you passed `nogil=True`.\n",
    "\n",
    " This will not be possible if the function is compiled in `object` mode."
   ]
  },
  {
   "cell_type": "code",
   "execution_count": 15,
   "id": "1b943c41",
   "metadata": {},
   "outputs": [
    {
     "name": "stdout",
     "output_type": "stream",
     "text": [
      "249 ns ± 0.259 ns per loop (mean ± std. dev. of 7 runs, 1000000 loops each)\n"
     ]
    }
   ],
   "source": [
    "@jit(nogil=True)\n",
    "def sum(x, y):\n",
    "    return x + y\n",
    "\n",
    "%timeit sum(2,2)"
   ]
  },
  {
   "cell_type": "markdown",
   "id": "ad364af5",
   "metadata": {},
   "source": [
    "#### cache\n",
    "To avoid compilation times each time you invoke a Python program, you can instruct Numba to write the result of function compilation into a file-based cache. This is done by passing cache=True:"
   ]
  },
  {
   "cell_type": "code",
   "execution_count": 16,
   "id": "88055614",
   "metadata": {},
   "outputs": [
    {
     "name": "stdout",
     "output_type": "stream",
     "text": [
      "191 ns ± 0.563 ns per loop (mean ± std. dev. of 7 runs, 10000000 loops each)\n"
     ]
    }
   ],
   "source": [
    "@jit(cache=True)\n",
    "def sum(x, y):\n",
    "    return x + y\n",
    "\n",
    "%timeit sum(2,2)"
   ]
  },
  {
   "cell_type": "markdown",
   "id": "762086dd",
   "metadata": {},
   "source": [
    "#### parallel\n",
    "\n",
    "Enables automatic parallelization (and related optimizations) for those operations in the function known to have parallel semantics. For a list of supported operations, see Automatic parallelization with `@jit`. This feature is enabled by passing `parallel=True` and must be used in conjunction with `nopython=True`:"
   ]
  },
  {
   "cell_type": "code",
   "execution_count": 19,
   "id": "8a67551d",
   "metadata": {},
   "outputs": [],
   "source": [
    "@jit(nopython=True, parallel=True)\n",
    "def sum(x, y):\n",
    "    return x + y\n"
   ]
  },
  {
   "cell_type": "markdown",
   "id": "16a7f2e9",
   "metadata": {},
   "source": [
    "## The explicit Matrix mulitplication example now with Numba!"
   ]
  },
  {
   "cell_type": "code",
   "execution_count": 22,
   "id": "349639fd",
   "metadata": {},
   "outputs": [
    {
     "name": "stdout",
     "output_type": "stream",
     "text": [
      "Multiplying 2 matricies of shape (5,5)\n",
      "122 µs ± 95.8 ns per loop (mean ± std. dev. of 7 runs, 10000 loops each)\n",
      "1.21 µs ± 12.6 ns per loop (mean ± std. dev. of 7 runs, 1000000 loops each)\n"
     ]
    }
   ],
   "source": [
    "from numba import jit\n",
    "from random import random\n",
    "import numpy as np\n",
    "\n",
    "#what kind of decorator will you put here?\n",
    "def explicit_matmul(A,B):\n",
    "    #A[m][n]\n",
    "    #B[n][p]\n",
    "    #C[m][p]    \n",
    "    C_temp = np.zeros((np.shape(A)[0],np.shape(A)[1]))  \n",
    "    for i in range(np.shape(A)[0]): #(i=1...m) Rows in A\n",
    "        for j in range(np.shape(B)[1]): # (j=1...p) Columns in B\n",
    "            for k in range(np.shape(A)[1]): # (k=1...n) Columns in A\n",
    "                C_temp[i][j] += A[i][k] * B[k][j]\n",
    "    return(C_temp)\n",
    "\n",
    "AX=AY=BX=BY=500\n",
    "print(\"Multiplying 2 matricies of shape (\" +str(AX)+\",\"+str(AY)+\")\")\n",
    "\n",
    "A = np.random.rand(AX,AY)\n",
    "B = np.random.rand(BX,BY)  \n",
    "\n",
    "%timeit explicit_matmul(A,B)\n",
    "\n",
    "%timeit np.matmul(A,B)"
   ]
  },
  {
   "cell_type": "code",
   "execution_count": null,
   "id": "8d22abf7",
   "metadata": {},
   "outputs": [],
   "source": []
  }
 ],
 "metadata": {
  "kernelspec": {
   "display_name": "Python 3 (ipykernel)",
   "language": "python",
   "name": "python3"
  },
  "language_info": {
   "codemirror_mode": {
    "name": "ipython",
    "version": 3
   },
   "file_extension": ".py",
   "mimetype": "text/x-python",
   "name": "python",
   "nbconvert_exporter": "python",
   "pygments_lexer": "ipython3",
   "version": "3.9.5"
  }
 },
 "nbformat": 4,
 "nbformat_minor": 5
}
