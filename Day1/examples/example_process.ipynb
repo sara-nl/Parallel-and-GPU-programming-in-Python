{
 "cells": [
  {
   "cell_type": "markdown",
   "id": "152e8441",
   "metadata": {},
   "source": [
    "# Matrix Multiplication parallelization example "
   ]
  },
  {
   "cell_type": "code",
   "execution_count": 1,
   "id": "e5a8152f",
   "metadata": {},
   "outputs": [
    {
     "name": "stdout",
     "output_type": "stream",
     "text": [
      "Overwriting pool_example.py\n"
     ]
    }
   ],
   "source": [
    "%%writefile pool_example.py\n",
    "import numpy as np\n",
    "import time\n",
    "from random import random\n",
    "import concurrent.futures\n",
    "from functools import partial\n",
    "\n",
    "def explicit_matmul(A,B):\n",
    "    #A[m][n]\n",
    "    #B[n][p]\n",
    "    #C[m][p]    \n",
    "    C_temp = np.zeros((np.shape(A)[0],np.shape(A)[1]))\n",
    "    for i in range(np.shape(A)[0]): #(i=1...m) Rows in A\n",
    "        for j in range(np.shape(B)[1]): # (j=1...p) Columns in B\n",
    "            for k in range(np.shape(A)[1]): # (k=1...n) Columns in A\n",
    "                C_temp[i][j] += A[i][k] * B[k][j]\n",
    "    return(C_temp)\n",
    "\n",
    "def explicit_matmul_process(A,B,k):\n",
    "    #A[m][n]\n",
    "    #B[n][p]\n",
    "    #C[m][p]\n",
    "    C_temp = np.zeros((np.shape(A)[0],np.shape(A)[1]))\n",
    "    for i in range(np.shape(A)[0]): #(i=1...m) Rows in A\n",
    "        for j in range(np.shape(B)[1]): # (j=1...p) Columns in B\n",
    "            #for k in range(np.shape(A)[1]): # (k=1...n) Columns in A\n",
    "            C_temp[i][j] += A[i][k] * B[k][j]\n",
    "    return(C_temp)\n",
    " \n",
    "if __name__ == '__main__':\n",
    "  \n",
    "     \n",
    "    AX=AY=BX=BY=300\n",
    "    print(\"Multiplying 2 matricies of shape (\" +str(AX)+\",\"+str(AY)+\")\")\n",
    "    \n",
    "    A = np.random.rand(AX,AY)\n",
    "    B = np.random.rand(BX,BY) \n",
    "\n",
    "    print(\"Starting procs\")\n",
    "    start_procs = time.perf_counter()\n",
    "    \n",
    "    ##################################################################\n",
    "    ##################################################################\n",
    "    ##################################################################\n",
    "    ## this specific example is trying to get you to use the concurrent.futures.ProcessPoolExecutor.map method\n",
    "    \n",
    "    #1: Create an iterable/list for the workers (processes) to work on\n",
    "    \n",
    "    C_locations = [i for i in range(AX)]\n",
    "\n",
    "    #2: Use the partial method from functools to create a \"new\" function with only 1 Iterable argument!\n",
    "    ###   Partial allow us to fix a certain number of arguments of a function and generate a new function.\n",
    "    ###   WE need this because pool.map() only excepts a function and an iterable argument for that function\n",
    "                \n",
    "    new_function = partial(explicit_matmul_process,A,B)    \n",
    "\n",
    "    #3: Create an executor\n",
    "    nprocs = 3\n",
    "    print(nprocs)\n",
    "    executor = concurrent.futures.ProcessPoolExecutor(max_workers=nprocs)\n",
    "\n",
    "    #4: start the pool of processes\n",
    "    results = executor.map(new_function,C_locations)\n",
    "                           \n",
    "    #5: Make sure results are put back to gether and correct!!!\n",
    "    ### this is the more difficult step\n",
    "    ### HINT: use np.sum (Naive)!                          \n",
    "    C_parallel = np.sum(list(results),axis=0)\n",
    "    \n",
    "    ##################################################################\n",
    "    ##################################################################\n",
    "    ##################################################################\n",
    "    \n",
    "    end_procs = time.perf_counter()\n",
    "    print(\"Procs mult: \",end_procs -start_procs)\n",
    " \n",
    "    start_explicit = time.perf_counter()\n",
    "    C_explicit = explicit_matmul(A,B)\n",
    "    end_explicit  = time.perf_counter()\n",
    "    print(\"Explicit mult: \",end_explicit - start_explicit)\n",
    "     \n",
    "    start_np = time.perf_counter()\n",
    "    C_np = np.matmul(A,B)\n",
    "    end_np  = time.perf_counter()\n",
    "    print(\"NumPy  matmul: \",end_np -start_np)\n",
    "     \n",
    "    if not np.allclose(C_explicit, C_parallel, rtol=1e-10, atol=1e-10):\n",
    "        print(\"C_parallel is not equal to C_explicit!!\")\n",
    "    if not np.allclose(C_parallel, C_np, rtol=1e-10, atol=1e-10):\n",
    "        print(\"C_parallel is not equal to C_np!!\")\n",
    "    if not np.allclose(C_explicit, C_np, rtol=1e-10, atol=1e-10):\n",
    "        print(\"C_np is not equal to C_explicit!!\")"
   ]
  },
  {
   "cell_type": "code",
   "execution_count": 47,
   "id": "2fbac9b1",
   "metadata": {},
   "outputs": [
    {
     "name": "stdout",
     "output_type": "stream",
     "text": [
      "Multiplying 2 matricies of shape (300,300)\n",
      "Starting procs\n",
      "3\n",
      "Procs mult:  7.860651847004192\n",
      "Explicit mult:  19.734997980995104\n",
      "NumPy  matmul:  0.0028645599959418178\n"
     ]
    }
   ],
   "source": [
    "!python pool_example.py"
   ]
  },
  {
   "cell_type": "markdown",
   "id": "bf746487",
   "metadata": {},
   "source": [
    "### Submit a job to the batch system if you want to use more that 3 cores!"
   ]
  },
  {
   "cell_type": "code",
   "execution_count": 33,
   "id": "160cda34",
   "metadata": {},
   "outputs": [
    {
     "name": "stdout",
     "output_type": "stream",
     "text": [
      "Overwriting python_job.sh\n"
     ]
    }
   ],
   "source": [
    "%%writefile python_job.sh\n",
    "#!/bin/bash\n",
    "#SBATCH -n 16\n",
    "#SBATCH -p normal\n",
    "#SBATCH -t 00:30:00\n",
    "\n",
    "module load 2021 SciPy-bundle/2021.05-foss-2021a\n",
    "\n",
    "python pool_example.py\n",
    "\n"
   ]
  },
  {
   "cell_type": "code",
   "execution_count": 30,
   "id": "7b85dbaf",
   "metadata": {},
   "outputs": [
    {
     "name": "stdout",
     "output_type": "stream",
     "text": [
      "Submitted batch job 10289478\r\n"
     ]
    }
   ],
   "source": [
    "!sbatch python_job.sh"
   ]
  }
 ],
 "metadata": {
  "kernelspec": {
   "display_name": "Python 3 (ipykernel)",
   "language": "python",
   "name": "python3"
  },
  "language_info": {
   "codemirror_mode": {
    "name": "ipython",
    "version": 3
   },
   "file_extension": ".py",
   "mimetype": "text/x-python",
   "name": "python",
   "nbconvert_exporter": "python",
   "pygments_lexer": "ipython3",
   "version": "3.9.5"
  }
 },
 "nbformat": 4,
 "nbformat_minor": 5
}
