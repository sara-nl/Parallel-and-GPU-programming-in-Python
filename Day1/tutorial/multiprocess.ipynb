{
 "cells": [
  {
   "cell_type": "markdown",
   "id": "6182eb6f",
   "metadata": {},
   "source": [
    "# Parallel programming for CPU\n",
    "\n",
    "## process based parallelism via the concurrent.futures module \n",
    "----\n",
    "----"
   ]
  },
  {
   "cell_type": "markdown",
   "id": "6e549a3f",
   "metadata": {},
   "source": [
    "## ProcessPoolExecutor (concurrent.futures)\n",
    "\n",
    "The ProcessPoolExecutor class is an Executor subclass that uses a pool of processes to execute calls asynchronously. ProcessPoolExecutor uses the multiprocessing module, which allows it to side-step the **Global Interpreter Lock** but also means that only picklable objects can be executed and returned. Each Process is a true system process without shared memory. If shared memory is needed the multiprocessing module provides features for sharing data and passing messages between them so that in many cases converting from threads to processes is as simple as changing a few import statements.\n",
    "- “Pickling” is the process whereby a Python object hierarchy is converted into a byte stream, and “unpickling” is the inverse operation, whereby a byte stream (from a binary file or bytes-like object) is converted back into an object hierarchy. Examples are `None`, `True`, and `False` ... integers, floating-point numbers, complex numbers ... strings, bytes, bytearrays ... tuples, lists, sets, and dictionaries containing only picklable objects.... and many more .... https://docs.python.org/3/library/pickle.html#what-can-be-pickled-and-unpickled\n",
    "\n",
    "**NOTE** An important difference with processes vs threads is that each child process needd to import the script containing the target function. Therefore it is important to wrap the main part of the application with `__main__` to ensure this part is not executed by every child process. Alternatively the target function can be stored in a different file that can be then imported into the main."
   ]
  },
  {
   "cell_type": "code",
   "execution_count": 79,
   "id": "ba93a172",
   "metadata": {},
   "outputs": [
    {
     "name": "stdout",
     "output_type": "stream",
     "text": [
      "Overwriting process_id.py\n"
     ]
    }
   ],
   "source": [
    "%%writefile process_id.py\n",
    "from concurrent import futures\n",
    "import os\n",
    "import time\n",
    "\n",
    "def do_work(n):\n",
    "    time.sleep(n)\n",
    "    return (n, os.getpid())\n",
    "\n",
    "if __name__ == '__main__':\n",
    "    tasks = range(1,5)\n",
    "    ex = futures.ProcessPoolExecutor(max_workers=len(tasks))\n",
    "    results = ex.map(do_work, tasks)\n",
    "    for n, pid in results:\n",
    "        print('ran task {} in process {}'.format(n, pid))"
   ]
  },
  {
   "cell_type": "code",
   "execution_count": 80,
   "id": "d056ea9d",
   "metadata": {},
   "outputs": [
    {
     "name": "stdout",
     "output_type": "stream",
     "text": [
      "ran task 1 in process 66470\n",
      "ran task 2 in process 66472\n",
      "ran task 3 in process 66471\n",
      "ran task 4 in process 66473\n"
     ]
    }
   ],
   "source": [
    "!python process_id.py"
   ]
  },
  {
   "cell_type": "markdown",
   "id": "a7b2adb9",
   "metadata": {},
   "source": [
    "Just to check.... What are the PID's that area assigned to each thread using the ThreadPoolExecutor class?"
   ]
  },
  {
   "cell_type": "code",
   "execution_count": 78,
   "id": "c02a542d",
   "metadata": {},
   "outputs": [
    {
     "name": "stdout",
     "output_type": "stream",
     "text": [
      "ran task 1 in process 41567\n",
      "ran task 2 in process 41567\n",
      "ran task 3 in process 41567\n",
      "ran task 4 in process 41567\n"
     ]
    }
   ],
   "source": [
    "from concurrent import futures\n",
    "import os\n",
    "import time\n",
    "\n",
    "def do_work(n):\n",
    "    time.sleep(n)\n",
    "    return (n, os.getpid())\n",
    "\n",
    "tasks = range(1,5)\n",
    "ex = futures.ThreadPoolExecutor(max_workers=len(tasks))\n",
    "results = ex.map(do_work, tasks)\n",
    "for n, pid in results:\n",
    "    print('ran task {} in process {}'.format(n, pid))"
   ]
  },
  {
   "cell_type": "markdown",
   "id": "784516d6",
   "metadata": {},
   "source": [
    "### Example of CPU bound code (Threads vs Processes)"
   ]
  },
  {
   "cell_type": "code",
   "execution_count": 76,
   "id": "6e703810",
   "metadata": {},
   "outputs": [
    {
     "name": "stdout",
     "output_type": "stream",
     "text": [
      "Overwriting prime.py\n"
     ]
    }
   ],
   "source": [
    "%%writefile prime.py\n",
    "import concurrent.futures\n",
    "import math\n",
    "import time\n",
    "\n",
    "PRIMES = [\n",
    "    112272535095293,\n",
    "    112582705942171,\n",
    "    112272535095293,\n",
    "    115280095190773,\n",
    "    115797848077099,\n",
    "    8,\n",
    "    1,\n",
    "    10000,\n",
    "    5284375928074353,\n",
    "    1099726899285419]\n",
    "\n",
    "def is_prime(n):\n",
    "    if n < 2:\n",
    "        return False\n",
    "    if n == 2:\n",
    "        return True\n",
    "    if n % 2 == 0:\n",
    "        return False\n",
    "\n",
    "    sqrt_n = int(math.floor(math.sqrt(n)))\n",
    "    for i in range(3, sqrt_n + 1, 2):\n",
    "        if n % i == 0:\n",
    "            return False\n",
    "    return True\n",
    "\n",
    "def processes():\n",
    "    with concurrent.futures.ProcessPoolExecutor() as executor:\n",
    "        for number, prime in zip(PRIMES, executor.map(is_prime, PRIMES)):\n",
    "            print('%d is prime: %s' % (number, prime))\n",
    "        \n",
    "def threads():\n",
    "    with concurrent.futures.ThreadPoolExecutor() as executor:\n",
    "        for number, prime in zip(PRIMES, executor.map(is_prime, PRIMES)):\n",
    "            print('%d is prime: %s' % (number, prime))\n",
    "\n",
    "if __name__ == '__main__':\n",
    "    \n",
    "    p_start = time.time()\n",
    "    processes()\n",
    "    p_end = time.time()\n",
    "    t_start = time.time()\n",
    "    threads()\n",
    "    t_end = time.time()\n",
    "    \n",
    "    print(\"\\n\\nTimings:\")\n",
    "    print(\"Processes: {}\".format(p_end - p_start))    \n",
    "    print(\"Threads  : {}\".format(t_end - t_start))\n",
    "    "
   ]
  },
  {
   "cell_type": "code",
   "execution_count": 77,
   "id": "d90cd40e",
   "metadata": {},
   "outputs": [
    {
     "name": "stdout",
     "output_type": "stream",
     "text": [
      "112272535095293 is prime: True\n",
      "112582705942171 is prime: True\n",
      "112272535095293 is prime: True\n",
      "115280095190773 is prime: True\n",
      "115797848077099 is prime: True\n",
      "8 is prime: False\n",
      "1 is prime: False\n",
      "10000 is prime: False\n",
      "5284375928074353 is prime: False\n",
      "1099726899285419 is prime: False\n",
      "112272535095293 is prime: True\n",
      "112582705942171 is prime: True\n",
      "112272535095293 is prime: True\n",
      "115280095190773 is prime: True\n",
      "115797848077099 is prime: True\n",
      "8 is prime: False\n",
      "1 is prime: False\n",
      "10000 is prime: False\n",
      "5284375928074353 is prime: False\n",
      "1099726899285419 is prime: False\n",
      "\n",
      "\n",
      "Timings:\n",
      "Processes: 0.8797800540924072\n",
      "Threads  : 2.309770107269287\n"
     ]
    }
   ],
   "source": [
    "!python prime.py"
   ]
  },
  {
   "cell_type": "markdown",
   "id": "ae99a02e",
   "metadata": {},
   "source": [
    "### Further Process control via the multiprocessing module \n",
    "\n",
    "The [multiprocessing](https://docs.python.org/3/library/multiprocessing.html) - module mirrors threading, except that instead of a Thread class it provides a Process. Each Process is a true system process without shared memory, but multiprocessing provides features for sharing data and passing messages between them so that in many cases converting from threads to processes is as simple as changing a few import statements.\n",
    "\n",
    "multiprocessing is a package that supports spawning processes using an API similar to the threading module. The multiprocessing package offers both local and remote concurrency, effectively side-stepping the `Global Interpreter Lock` by using subprocesses instead of threads. Due to this, the multiprocessing module allows the programmer to fully leverage multiple processors on a given machine. It runs on both Unix and Windows.\n",
    "\n",
    "The multiprocessing module also introduces APIs which do not have analogs in the threading module. A prime example of this is the `Pool` object which offers a convenient means of parallelizing the execution of a function across multiple input values, distributing the input data across processes (data parallelism). The following example demonstrates the common practice of defining such functions in a module so that child processes can successfully import that module."
   ]
  },
  {
   "cell_type": "markdown",
   "id": "64c8972c",
   "metadata": {},
   "source": [
    "### The Process class\n",
    "\n",
    "Similar to the ```Thread``` class it is used to spawn an additional process with a target function.\n",
    "\n",
    "- Locks https://docs.python.org/3/library/multiprocessing.html#synchronization-between-processes\n",
    "    - The multiprocessing module supports locks in much the same way as the threading module does. \n",
    "- Message passing for communication between processes https://docs.python.org/3/library/multiprocessing.html#pipes-and-queues\n",
    "\n",
    "- Sharing Memory between processes https://docs.python.org/3/library/multiprocessing.html#sharing-state-between-processes\n",
    "    - When it comes to communicating between processes, the multiprocessing modules has two primary methods: Queues and Pipes. The Queue implementation is actually both thread and process safe.\n",
    "- The Pool class https://docs.python.org/3/library/multiprocessing.html#using-a-pool-of-workers\n",
    "    -The ```Pool``` class is used to represent a pool of worker processes. It has methods which can allow you to offload tasks to the worker processes. Let’s look at a really simple example"
   ]
  }
 ],
 "metadata": {
  "kernelspec": {
   "display_name": "Python 3",
   "language": "python",
   "name": "python3"
  },
  "language_info": {
   "codemirror_mode": {
    "name": "ipython",
    "version": 3
   },
   "file_extension": ".py",
   "mimetype": "text/x-python",
   "name": "python",
   "nbconvert_exporter": "python",
   "pygments_lexer": "ipython3",
   "version": "3.8.5"
  }
 },
 "nbformat": 4,
 "nbformat_minor": 5
}
