{
 "cells": [
  {
   "cell_type": "markdown",
   "id": "b4308f77",
   "metadata": {},
   "source": [
    "# Profiling"
   ]
  },
  {
   "cell_type": "markdown",
   "id": "bfd6246b",
   "metadata": {},
   "source": [
    "## Available profilers in Python\n",
    "\n",
    "### lightweight\n",
    " -  **%timeit** A very usefull magic function (especially for this course!)\n",
    " -  **time** (module) This module provides various time-related functions.\n",
    " \n",
    "### Standard\n",
    " -  **cProfile** (module) This module is recommended for most users; it’s a C extension with reasonable overhead that makes it suitable for profiling long-running programs. Based on lsprof, contributed by Brett Rosen and Ted Czotter. Default CPU profiler, a bit slow (deterministic)\n",
    " - **pyinstrument** Reports the call stack and elapsed times (statistical)\n",
    " - **yappi** Allows to profile multi-threaded applications (deterministic)\n",
    " - **memory_profiler** Monitors memory consumption of a process\n",
    " - **line_profiler** Profile the time individual lines of code take to execute\n",
    "\n",
    "### Collection of Profilers\n",
    "- **decoProf** Is a python tool, that bundles the above profilers and allows user's to use select the profiler they want to profile the funcion they want. https://github.com/SURFQuantum/decoProf\n",
    "\n",
    "#### \"deterministic\" and \"statistical\" profilers:\n",
    "> **_NOTE:_**  This description is taken from the decoProf documentaion https://github.com/SURFQuantum/decoProf\n",
    "\n",
    "**Deterministic**\n",
    "\n",
    "Deterministic profilers work by hooking into several function call/leave events and calculate all metrics according to these.\n",
    "\n",
    "**Statistical**\n",
    "\n",
    "Statistical profilers do not track every function call the program makes but they record the call stack every 1ms or whatever defined in the interval. The statistical profilers can impose less overhead compared to the deterministic ones."
   ]
  },
  {
   "cell_type": "code",
   "execution_count": 2,
   "id": "692ca06d-2ac3-443f-964f-ebbdd19c11bd",
   "metadata": {},
   "outputs": [
    {
     "name": "stdout",
     "output_type": "stream",
     "text": [
      "         160808 function calls in 6.684 seconds\n",
      "\n",
      "   Ordered by: standard name\n",
      "\n",
      "   ncalls  tottime  percall  cumtime  percall filename:lineno(function)\n",
      "    40201    0.041    0.000    0.094    0.000 <__array_function__ internals>:177(shape)\n",
      "        1    6.590    6.590    6.684    6.684 <ipython-input-1-7ccde38beb56>:7(explicit_matmul)\n",
      "        1    0.000    0.000    6.684    6.684 <string>:1(<module>)\n",
      "    40201    0.009    0.000    0.009    0.000 fromnumeric.py:1987(_shape_dispatcher)\n",
      "    40201    0.015    0.000    0.015    0.000 fromnumeric.py:1991(shape)\n",
      "        1    0.000    0.000    6.684    6.684 {built-in method builtins.exec}\n",
      "    40201    0.030    0.000    0.044    0.000 {built-in method numpy.core._multiarray_umath.implement_array_function}\n",
      "        1    0.000    0.000    0.000    0.000 {method 'disable' of '_lsprof.Profiler' objects}\n",
      "\n",
      "\n"
     ]
    }
   ],
   "source": [
    "import cProfile\n",
    "\n",
    "cProfile.run('explicit_matmul(A,B,C)') #By default the run method prints to the std out\n"
   ]
  },
  {
   "cell_type": "markdown",
   "id": "d0d5936d",
   "metadata": {},
   "source": [
    "## Memory profiler\n",
    "> https://github.com/pythonprofilers/memory_profiler"
   ]
  },
  {
   "cell_type": "code",
   "execution_count": 4,
   "id": "ebece704",
   "metadata": {},
   "outputs": [
    {
     "name": "stdout",
     "output_type": "stream",
     "text": [
      "mprof: Sampling memory every 0.1s\n",
      "running new process\n",
      "running as a Python program...\n",
      "Serial:  6.472360283\n",
      "Using last profile data.\n"
     ]
    }
   ],
   "source": [
    "pip install -U memory_profiler"
   ]
  },
  {
   "cell_type": "code",
   "execution_count": null,
   "id": "a023302f",
   "metadata": {},
   "outputs": [],
   "source": [
    "%%writefile mem_growth.py\n",
    "class simple_class:\n",
    "    \"\"\"A simple example class\"\"\"\n",
    "    i = 100000000000000000.0\n",
    "\n",
    "    def f(self):\n",
    "        return 'hello world'\n",
    "    \n",
    "@profile\n",
    "def dumb():\n",
    "    \"\"\"This function will just keep allocating a class\"\"\"\n",
    "    y = []\n",
    "    for i in range(5000000):\n",
    "        x = simple_class()\n",
    "        y.append(x.i + float(i))\n",
    "    return(y)\n",
    "\n",
    "@profile\n",
    "def not_as_dumb():\n",
    "    \"\"\"This function will just keep allocating a class, and maybe try to delete it....\"\"\"\n",
    "    y = []\n",
    "    x = simple_class()\n",
    "    for i in range(5000000):\n",
    "        y.append(x.i + float(i))\n",
    "        \n",
    "    return(y)\n",
    "\n",
    "        \n",
    "if __name__ == \"__main__\":\n",
    "    dumb()\n",
    "    not_as_dumb()        \n"
   ]
  },
  {
   "cell_type": "code",
   "execution_count": 37,
   "id": "00f80370",
   "metadata": {},
   "outputs": [],
   "source": [
    "!mprof run mem_growth.py\n",
    "!mprof plot --output=memory.png"
   ]
  },
  {
   "cell_type": "code",
   "execution_count": null,
   "id": "716a00d7-136e-4ee3-98ec-1fee2e4a3095",
   "metadata": {},
   "outputs": [],
   "source": [
    "cProfile.run('explicit_matmul(A,B)',\"my_perf_file.out\") #By default the run method prints to the std out"
   ]
  },
  {
   "cell_type": "code",
   "execution_count": null,
   "id": "868fcb41-fdc5-4cf5-9173-4934cdccc4cf",
   "metadata": {},
   "outputs": [],
   "source": [
    "import pstats\n",
    "from pstats import SortKey\n",
    "\n",
    "p = pstats.Stats('my_perf_file.out')  #read in the profile data\n",
    "\n",
    "#you can sort by the internal time\n",
    "p.sort_stats('time')\n",
    "p.print_stats()\n",
    "\n",
    "#you can sort by the number of calls\n",
    "p.sort_stats('calls')\n",
    "p.print_stats()\n",
    "\n",
    "#you can reverse the order\n",
    "p.reverse_order()\n",
    "p.print_stats()\n"
   ]
  },
  {
   "cell_type": "code",
   "execution_count": null,
   "id": "2c753d03-887d-4ecb-976c-f9ff3bf27566",
   "metadata": {},
   "outputs": [],
   "source": [
    "import cProfile\n",
    "\n",
    "def do_profile(func):\n",
    "    def profiled_func(*args, **kwargs):\n",
    "        profile = cProfile.Profile()\n",
    "        try:\n",
    "            profile.enable()\n",
    "            result = func(*args, **kwargs)\n",
    "            profile.disable()\n",
    "            return result\n",
    "        finally:\n",
    "            profile.print_stats()\n",
    "    return profiled_func"
   ]
  },
  {
   "cell_type": "code",
   "execution_count": null,
   "id": "f6e3e31d-2b8e-4cdf-b18d-9ee86a00701e",
   "metadata": {},
   "outputs": [],
   "source": [
    "# Simple Matrix multiplication algorithm\n",
    "@do_profile\n",
    "def numpy_matmul(A,B):\n",
    "    npA = np.array(A)\n",
    "    npB = np.array(B)\n",
    "    C = np.matmul(A,B)\n",
    "    return C\n",
    "\n",
    "@do_profile\n",
    "def explicit_matmul(A,B):\n",
    "    C = [[0 for x in range(len(A))] for y in range(len(B[0]))]\n",
    "    for i in range(len(A)):\n",
    "        for j in range(len(B[0])):\n",
    "            for k in range(len(B)):\n",
    "                C[i][j] += A[i][k] * B[k][j]\n",
    "    return C\n",
    "\n",
    "#Set matrix dimension\n",
    "AX=AY=BX=BY=100\n",
    "\n",
    "#Define Matrix A\n",
    "A = [[random() for x in range(AX)] for y in range(AY)]\n",
    "\n",
    "#Define Matrix B\n",
    "B = [[random() for x in range(BX)] for y in range(BY)]\n",
    "\n",
    "res = numpy_matmul(A,B)\n",
    "\n",
    "res = explicit_matmul(A,B)"
   ]
  }
 ],
 "metadata": {
  "kernelspec": {
   "display_name": "Python 3 (ipykernel)",
   "language": "python",
   "name": "python3"
  },
  "language_info": {
   "codemirror_mode": {
    "name": "ipython",
    "version": 3
   },
   "file_extension": ".py",
   "mimetype": "text/x-python",
   "name": "python",
   "nbconvert_exporter": "python",
   "pygments_lexer": "ipython3",
   "version": "3.11.6"
  }
 },
 "nbformat": 4,
 "nbformat_minor": 5
}
