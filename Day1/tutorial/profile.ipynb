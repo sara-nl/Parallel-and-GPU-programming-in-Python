{
 "cells": [
  {
   "cell_type": "markdown",
   "id": "b4308f77",
   "metadata": {},
   "source": [
    "# Profiling"
   ]
  },
  {
   "cell_type": "markdown",
   "id": "bfd6246b",
   "metadata": {},
   "source": [
    "## Available profilers in Python\n",
    "\n",
    "### lightweight\n",
    " -  **%timeit** A very usefull magic function (especially for this course!)\n",
    " -  **time** (module) This module provides various time-related functions.\n",
    " \n",
    "### Standard\n",
    " -  **cProfile** (module) This module is recommended for most users; it’s a C extension with reasonable overhead that makes it suitable for profiling long-running programs. Based on lsprof, contributed by Brett Rosen and Ted Czotter. Default CPU profiler, a bit slow (deterministic)\n",
    " - **pyinstrument** Reports the call stack and elapsed times (statistical)\n",
    " - **yappi** Allows to profile multi-threaded applications (deterministic)\n",
    " - **memory_profiler** Monitors memory consumption of a process\n",
    " - **line_profiler** Profile the time individual lines of code take to execute\n",
    "\n",
    "### Collection of Profilers\n",
    "- **decoProf** Is a python tool, that bundles the above profilers and allows user's to use select the profiler they want to profile the funcion they want. https://github.com/SURFQuantum/decoProf\n",
    "\n",
    "#### \"deterministic\" and \"statistical\" profilers:\n",
    "> **_NOTE:_**  This description is taken from the decoProf documentaion https://github.com/SURFQuantum/decoProf\n",
    "\n",
    "**Deterministic**\n",
    "\n",
    "Deterministic profilers work by hooking into several function call/leave events and calculate all metrics according to these.\n",
    "\n",
    "**Statistical**\n",
    "\n",
    "Statistical profilers do not track every function call the program makes but they record the call stack every 1ms or whatever defined in the interval. The statistical profilers can impose less overhead compared to the deterministic ones."
   ]
  },
  {
   "cell_type": "code",
   "execution_count": 4,
   "id": "855c27bc-a675-4acb-85ec-3ab139c41638",
   "metadata": {},
   "outputs": [
    {
     "name": "stdout",
     "output_type": "stream",
     "text": [
      "Explicit matmul:  0.7024941329727881\n"
     ]
    }
   ],
   "source": [
    "import numpy as np\n",
    "import time\n",
    "\n",
    "def explicit_matmul(A,B,C):\n",
    "    #A[m][n]\n",
    "    #B[n][p]\n",
    "    #C[m][p]    \n",
    "    for i in range(np.shape(A)[0]): #(i=1...m) Rows in A\n",
    "        for j in range(np.shape(B)[1]): # (j=1...p) Columns in B\n",
    "            for k in range(np.shape(A)[1]): # (k=1...n) Columns in A\n",
    "                C[i][j] += A[i][k] * B[k][j]\n",
    "    return(C)\n",
    "\n",
    "AX=AY=BX=BY=100\n",
    "\n",
    "A = np.random.rand(AX,AY)\n",
    "B = np.random.rand(BX,BY)  \n",
    "C = np.zeros((AX,AY))\n",
    "\n",
    "\n",
    "start = time.perf_counter()\n",
    "C_explicit = explicit_matmul(A,B,C)\n",
    "end = time.perf_counter()\n",
    "print(\"Explicit matmul: \",end-start)\n"
   ]
  },
  {
   "cell_type": "code",
   "execution_count": 5,
   "id": "692ca06d-2ac3-443f-964f-ebbdd19c11bd",
   "metadata": {},
   "outputs": [
    {
     "name": "stdout",
     "output_type": "stream",
     "text": [
      "         40408 function calls in 0.871 seconds\n",
      "\n",
      "   Ordered by: standard name\n",
      "\n",
      "   ncalls  tottime  percall  cumtime  percall filename:lineno(function)\n",
      "        1    0.854    0.854    0.871    0.871 3636018740.py:4(explicit_matmul)\n",
      "    10101    0.008    0.000    0.017    0.000 <__array_function__ internals>:177(shape)\n",
      "        1    0.000    0.000    0.871    0.871 <string>:1(<module>)\n",
      "    10101    0.001    0.000    0.001    0.000 fromnumeric.py:1987(_shape_dispatcher)\n",
      "    10101    0.002    0.000    0.002    0.000 fromnumeric.py:1991(shape)\n",
      "        1    0.000    0.000    0.871    0.871 {built-in method builtins.exec}\n",
      "    10101    0.005    0.000    0.007    0.000 {built-in method numpy.core._multiarray_umath.implement_array_function}\n",
      "        1    0.000    0.000    0.000    0.000 {method 'disable' of '_lsprof.Profiler' objects}\n",
      "\n",
      "\n"
     ]
    }
   ],
   "source": [
    "import cProfile\n",
    "\n",
    "cProfile.run('explicit_matmul(A,B,C)') #By default the run method prints to the std out\n"
   ]
  },
  {
   "cell_type": "code",
   "execution_count": 6,
   "id": "3cbb327f-9f73-4344-a4d3-ae54b64b1a19",
   "metadata": {},
   "outputs": [
    {
     "name": "stdout",
     "output_type": "stream",
     "text": [
      "Mon Nov 13 10:14:57 2023    my_perf_file.out\n",
      "\n",
      "         40408 function calls in 0.911 seconds\n",
      "\n",
      "   Ordered by: internal time\n",
      "\n",
      "   ncalls  tottime  percall  cumtime  percall filename:lineno(function)\n",
      "        1    0.892    0.892    0.911    0.911 /var/folders/3r/sc975sjx4zv538_w2rfj91bc0000gq/T/ipykernel_76268/3636018740.py:4(explicit_matmul)\n",
      "    10101    0.009    0.000    0.019    0.000 <__array_function__ internals>:177(shape)\n",
      "    10101    0.005    0.000    0.008    0.000 {built-in method numpy.core._multiarray_umath.implement_array_function}\n",
      "    10101    0.003    0.000    0.003    0.000 /Users/benjamic/anaconda3/lib/python3.11/site-packages/numpy/core/fromnumeric.py:1991(shape)\n",
      "    10101    0.002    0.000    0.002    0.000 /Users/benjamic/anaconda3/lib/python3.11/site-packages/numpy/core/fromnumeric.py:1987(_shape_dispatcher)\n",
      "        1    0.000    0.000    0.911    0.911 {built-in method builtins.exec}\n",
      "        1    0.000    0.000    0.911    0.911 <string>:1(<module>)\n",
      "        1    0.000    0.000    0.000    0.000 {method 'disable' of '_lsprof.Profiler' objects}\n",
      "\n",
      "\n",
      "Mon Nov 13 10:14:57 2023    my_perf_file.out\n",
      "\n",
      "         40408 function calls in 0.911 seconds\n",
      "\n",
      "   Ordered by: call count\n",
      "\n",
      "   ncalls  tottime  percall  cumtime  percall filename:lineno(function)\n",
      "    10101    0.003    0.000    0.003    0.000 /Users/benjamic/anaconda3/lib/python3.11/site-packages/numpy/core/fromnumeric.py:1991(shape)\n",
      "    10101    0.002    0.000    0.002    0.000 /Users/benjamic/anaconda3/lib/python3.11/site-packages/numpy/core/fromnumeric.py:1987(_shape_dispatcher)\n",
      "    10101    0.009    0.000    0.019    0.000 <__array_function__ internals>:177(shape)\n",
      "    10101    0.005    0.000    0.008    0.000 {built-in method numpy.core._multiarray_umath.implement_array_function}\n",
      "        1    0.000    0.000    0.911    0.911 {built-in method builtins.exec}\n",
      "        1    0.000    0.000    0.000    0.000 {method 'disable' of '_lsprof.Profiler' objects}\n",
      "        1    0.000    0.000    0.911    0.911 <string>:1(<module>)\n",
      "        1    0.892    0.892    0.911    0.911 /var/folders/3r/sc975sjx4zv538_w2rfj91bc0000gq/T/ipykernel_76268/3636018740.py:4(explicit_matmul)\n",
      "\n",
      "\n",
      "Mon Nov 13 10:14:57 2023    my_perf_file.out\n",
      "\n",
      "         40408 function calls in 0.911 seconds\n",
      "\n",
      "   Ordered by: call count\n",
      "\n",
      "   ncalls  tottime  percall  cumtime  percall filename:lineno(function)\n",
      "        1    0.892    0.892    0.911    0.911 /var/folders/3r/sc975sjx4zv538_w2rfj91bc0000gq/T/ipykernel_76268/3636018740.py:4(explicit_matmul)\n",
      "        1    0.000    0.000    0.911    0.911 <string>:1(<module>)\n",
      "        1    0.000    0.000    0.000    0.000 {method 'disable' of '_lsprof.Profiler' objects}\n",
      "        1    0.000    0.000    0.911    0.911 {built-in method builtins.exec}\n",
      "    10101    0.005    0.000    0.008    0.000 {built-in method numpy.core._multiarray_umath.implement_array_function}\n",
      "    10101    0.009    0.000    0.019    0.000 <__array_function__ internals>:177(shape)\n",
      "    10101    0.002    0.000    0.002    0.000 /Users/benjamic/anaconda3/lib/python3.11/site-packages/numpy/core/fromnumeric.py:1987(_shape_dispatcher)\n",
      "    10101    0.003    0.000    0.003    0.000 /Users/benjamic/anaconda3/lib/python3.11/site-packages/numpy/core/fromnumeric.py:1991(shape)\n",
      "\n",
      "\n"
     ]
    },
    {
     "data": {
      "text/plain": [
       "<pstats.Stats at 0x112d98750>"
      ]
     },
     "execution_count": 6,
     "metadata": {},
     "output_type": "execute_result"
    }
   ],
   "source": [
    "cProfile.run('explicit_matmul(A,B,C)',\"my_perf_file.out\") #By default the run method prints to the std out\n",
    "\n",
    "import pstats\n",
    "from pstats import SortKey\n",
    "\n",
    "p = pstats.Stats('my_perf_file.out')  #read in the profile data\n",
    "\n",
    "#you can sort by the internal time\n",
    "p.sort_stats('time')\n",
    "p.print_stats()\n",
    "\n",
    "#you can sort by the number of calls\n",
    "p.sort_stats('calls')\n",
    "p.print_stats()\n",
    "\n",
    "#you can reverse the order\n",
    "p.reverse_order()\n",
    "p.print_stats()"
   ]
  },
  {
   "cell_type": "markdown",
   "id": "a394a0a5-4c2e-463c-ae4a-242b22fe6c22",
   "metadata": {},
   "source": [
    "## Line Profiler\n",
    "> https://pypi.org/project/line-profiler/"
   ]
  },
  {
   "cell_type": "code",
   "execution_count": 39,
   "id": "2259e78a-a2d9-467d-a406-9722364f147e",
   "metadata": {},
   "outputs": [
    {
     "name": "stdout",
     "output_type": "stream",
     "text": [
      "Collecting line_profiler\n",
      "  Downloading line_profiler-4.1.2-cp311-cp311-macosx_10_9_x86_64.whl.metadata (31 kB)\n",
      "Downloading line_profiler-4.1.2-cp311-cp311-macosx_10_9_x86_64.whl (131 kB)\n",
      "\u001b[2K   \u001b[38;2;114;156;31m━━━━━━━━━━━━━━━━━━━━━━━━━━━━━━━━━━━━━━━━\u001b[0m \u001b[32m131.8/131.8 kB\u001b[0m \u001b[31m4.0 MB/s\u001b[0m eta \u001b[36m0:00:00\u001b[0m\n",
      "\u001b[?25hInstalling collected packages: line_profiler\n",
      "Successfully installed line_profiler-4.1.2\n",
      "Note: you may need to restart the kernel to use updated packages.\n"
     ]
    }
   ],
   "source": [
    "pip install line_profiler"
   ]
  },
  {
   "cell_type": "markdown",
   "id": "d2a14974-b82d-46b9-9fad-c722a6f58477",
   "metadata": {},
   "source": [
    "### Coming back to the matmul example. Can you find the bug?\n",
    "- You need to add the decorator @profile before each function that you would like to profile\n",
    "- Call the `kernprof` script of lineprofile `kernprof -l script_to_profile.py` in order to profile your python script"
   ]
  },
  {
   "cell_type": "code",
   "execution_count": 21,
   "id": "54d15b3c-ace7-4ec9-8037-b89bbd5e5b69",
   "metadata": {},
   "outputs": [
    {
     "name": "stdout",
     "output_type": "stream",
     "text": [
      "Overwriting line_profiler_example.py\n"
     ]
    }
   ],
   "source": [
    "%%writefile line_profiler_example.py\n",
    "import numpy as np\n",
    "import time\n",
    "\n",
    "@profile\n",
    "def explicit_matmul(A,B,C):\n",
    "    for i in range(np.shape(A)[0]): #(i=1...m) Rows in A\n",
    "        for j in range(np.shape(B)[1]): # (j=1...p) Columns in B\n",
    "            for k in range(np.shape(A)[1]): # (k=1...n) Columns in A\n",
    "                C[i][j] += A[i][k] * B[k][j]\n",
    "    return(C)\n",
    "\n",
    "@profile\n",
    "def inefficient_matmul(A,B,C):\n",
    "    for wtf in range(3): #WTF!?\n",
    "        C = np.zeros((AX,AY))\n",
    "        for i in range(np.shape(A)[0]): #(i=1...m) Rows in A\n",
    "            for j in range(np.shape(B)[1]): # (j=1...p) Columns in B\n",
    "                for k in range(np.shape(A)[1]): # (k=1...n) Columns in A\n",
    "                    C[i][j] += A[i][k] * B[k][j]\n",
    "    return(C)\n",
    "\n",
    "\n",
    "if __name__ == \"__main__\":\n",
    "\n",
    "    AX=AY=BX=BY=100\n",
    "\n",
    "    A = np.random.rand(AX,AY)\n",
    "    B = np.random.rand(BX,BY)  \n",
    "    C = np.zeros((AX,AY))\n",
    "    \n",
    "    C_explicit = explicit_matmul(A,B,C)\n",
    "    \n",
    "    C = np.zeros((AX,AY))\n",
    "    C_ineff = inefficient_matmul(A,B,C)\n"
   ]
  },
  {
   "cell_type": "code",
   "execution_count": 22,
   "id": "6d22a69a-8869-4f93-a8fa-8dbf024288ea",
   "metadata": {},
   "outputs": [
    {
     "name": "stdout",
     "output_type": "stream",
     "text": [
      "Wrote profile results to line_profiler_example.py.lprof\n",
      "Inspect results with:\n",
      "python -m line_profiler -rmt \"line_profiler_example.py.lprof\"\n"
     ]
    }
   ],
   "source": [
    "!kernprof -l line_profiler_example.py"
   ]
  },
  {
   "cell_type": "markdown",
   "id": "e87eac93-c828-41a3-8280-7aac51204ee8",
   "metadata": {},
   "source": [
    "**Now show the results**"
   ]
  },
  {
   "cell_type": "code",
   "execution_count": 23,
   "id": "98a0ac71-164e-4bce-996f-6075443c364d",
   "metadata": {},
   "outputs": [
    {
     "name": "stdout",
     "output_type": "stream",
     "text": [
      "Timer unit: 1e-06 s\n",
      "\n",
      "Total time: 1.50485 s\n",
      "File: line_profiler_example.py\n",
      "Function: explicit_matmul at line 4\n",
      "\n",
      "Line #      Hits         Time  Per Hit   % Time  Line Contents\n",
      "==============================================================\n",
      "     4                                           @profile\n",
      "     5                                           def explicit_matmul(A,B,C):\n",
      "     6       101         32.0      0.3      0.0      for i in range(np.shape(A)[0]): #(i=1...m) Rows in A\n",
      "     7     10100       2613.0      0.3      0.2          for j in range(np.shape(B)[1]): # (j=1...p) Columns in B\n",
      "     8   1010000     250223.0      0.2     16.6              for k in range(np.shape(A)[1]): # (k=1...n) Columns in A\n",
      "     9   1000000    1251984.0      1.3     83.2                  C[i][j] += A[i][k] * B[k][j]\n",
      "    10         1          0.0      0.0      0.0      return(C)\n",
      "\n",
      "Total time: 4.34411 s\n",
      "File: line_profiler_example.py\n",
      "Function: inefficient_matmul at line 12\n",
      "\n",
      "Line #      Hits         Time  Per Hit   % Time  Line Contents\n",
      "==============================================================\n",
      "    12                                           @profile\n",
      "    13                                           def inefficient_matmul(A,B,C):\n",
      "    14         4          9.0      2.2      0.0      for wtf in range(3): #WTF!?\n",
      "    15         3         54.0     18.0      0.0          C = np.zeros((AX,AY))\n",
      "    16       303        114.0      0.4      0.0          for i in range(np.shape(A)[0]): #(i=1...m) Rows in A\n",
      "    17     30300       7011.0      0.2      0.2              for j in range(np.shape(B)[1]): # (j=1...p) Columns in B\n",
      "    18   3030000     721342.0      0.2     16.6                  for k in range(np.shape(A)[1]): # (k=1...n) Columns in A\n",
      "    19   3000000    3615581.0      1.2     83.2                      C[i][j] += A[i][k] * B[k][j]\n",
      "    20         1          0.0      0.0      0.0      return(C)\n",
      "\n"
     ]
    }
   ],
   "source": [
    "!python -m line_profiler line_profiler_example.py.lprof"
   ]
  },
  {
   "cell_type": "markdown",
   "id": "d0d5936d",
   "metadata": {},
   "source": [
    "## Memory profiler\n",
    "> https://github.com/pythonprofilers/memory_profiler"
   ]
  },
  {
   "cell_type": "code",
   "execution_count": 3,
   "id": "ebece704",
   "metadata": {},
   "outputs": [
    {
     "name": "stdout",
     "output_type": "stream",
     "text": [
      "Collecting memory_profiler\n",
      "  Downloading memory_profiler-0.61.0-py3-none-any.whl (31 kB)\n",
      "Requirement already satisfied: psutil in /Users/benjamic/anaconda3/lib/python3.11/site-packages (from memory_profiler) (5.9.5)\n",
      "Installing collected packages: memory_profiler\n",
      "Successfully installed memory_profiler-0.61.0\n",
      "Note: you may need to restart the kernel to use updated packages.\n"
     ]
    }
   ],
   "source": [
    "pip install -U memory_profiler"
   ]
  },
  {
   "cell_type": "code",
   "execution_count": 20,
   "id": "a023302f",
   "metadata": {},
   "outputs": [
    {
     "name": "stdout",
     "output_type": "stream",
     "text": [
      "Overwriting mem_growth.py\n"
     ]
    }
   ],
   "source": [
    "%%writefile mem_growth.py\n",
    "class simple_class:\n",
    "    \"\"\"A simple example class\"\"\"\n",
    "    i = 100000000000000000.0\n",
    "\n",
    "    def f(self):\n",
    "        return 'hello world'\n",
    "    \n",
    "@profile\n",
    "def dumb():\n",
    "    \"\"\"This function will just keep allocating a class\"\"\"\n",
    "    y = []\n",
    "    for i in range(10000000):\n",
    "        x = simple_class()\n",
    "        y.append(x.i + float(i))\n",
    "    return(y)\n",
    "\n",
    "        \n",
    "if __name__ == \"__main__\":\n",
    "\n",
    "    dumb()\n"
   ]
  },
  {
   "cell_type": "code",
   "execution_count": 21,
   "id": "00f80370",
   "metadata": {},
   "outputs": [
    {
     "name": "stdout",
     "output_type": "stream",
     "text": [
      "mprof: Sampling memory every 0.1s\n",
      "running new process\n",
      "running as a Python program...\n",
      "Using last profile data.\n"
     ]
    }
   ],
   "source": [
    "!mprof run mem_growth.py\n",
    "!mprof plot --output=memory.png"
   ]
  }
 ],
 "metadata": {
  "kernelspec": {
   "display_name": "Python 3 (ipykernel)",
   "language": "python",
   "name": "python3"
  },
  "language_info": {
   "codemirror_mode": {
    "name": "ipython",
    "version": 3
   },
   "file_extension": ".py",
   "mimetype": "text/x-python",
   "name": "python",
   "nbconvert_exporter": "python",
   "pygments_lexer": "ipython3",
   "version": "3.11.6"
  }
 },
 "nbformat": 4,
 "nbformat_minor": 5
}
