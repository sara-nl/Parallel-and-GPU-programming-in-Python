{
 "cells": [
  {
   "cell_type": "markdown",
   "metadata": {},
   "source": [
    "# Parallel programming for CPU programming \n",
    "\n",
    "## concurrent.futures\n",
    "\n",
    "[concurrent.futures](https://docs.python.org/3/library/concurrent.futures.html)\n",
    "\n",
    "The concurrent.futures modules provides interfaces for running tasks using pools of thread or process workers. The APIs are the same, so applications can switch between threads and processes with minimal changes.\n",
    "\n",
    "The module provides two types of classes for interacting with the pools. \n",
    "\n",
    "```Executors``` are used for managing pools of workers, and ```futures``` are used for managing results computed by the workers. \n",
    "\n",
    "To use a pool of workers, an application creates an instance of the appropriate executor class and then submits tasks for it to run. When each task is started, a Future instance is returned. \n",
    "\n",
    "When the result of the task is needed, an application can "
   ]
  },
  {
   "cell_type": "markdown",
   "metadata": {},
   "source": [
    "### ThreadPoolExecutor\n",
    "\n",
    "ThreadPoolExecutor manages a set of worker threads, passing tasks to them as they become available for more work. \n",
    "\n",
    "This example uses map() to concurrently produce a set of results from an input iterable. The task uses ```time.sleep()``` to pause a different amount of time to demonstrate that, regardless of the order of execution of concurrent tasks, ```map()``` always returns the values in order based on the inputs."
   ]
  },
  {
   "cell_type": "code",
   "execution_count": 7,
   "metadata": {},
   "outputs": [
    {
     "name": "stdout",
     "output_type": "stream",
     "text": [
      "main: starting\n",
      "ThreadPoolExecutor-5_0: sleeping 5ThreadPoolExecutor-5_1: sleeping 4\n",
      "\n",
      "main: waiting for real results\n",
      "ThreadPoolExecutor-5_1: done with 4\n",
      "ThreadPoolExecutor-5_1: sleeping 3\n",
      "ThreadPoolExecutor-5_0: done with 5\n",
      "ThreadPoolExecutor-5_0: sleeping 2\n",
      "ThreadPoolExecutor-5_0: done with 2\n",
      "ThreadPoolExecutor-5_0: sleeping 1\n",
      "ThreadPoolExecutor-5_1: done with 3\n",
      "ThreadPoolExecutor-5_0: done with 1\n",
      "main: results: [50.0, 40.0, 30.0, 20.0, 10.0]\n"
     ]
    }
   ],
   "source": [
    "from concurrent import futures\n",
    "import threading\n",
    "import time\n",
    "\n",
    "\n",
    "def task(n):\n",
    "    print('{}: sleeping {}'.format(\n",
    "        threading.current_thread().name,\n",
    "        n)\n",
    "    )\n",
    "    time.sleep(n)\n",
    "    print('{}: done with {}'.format(\n",
    "        threading.current_thread().name,\n",
    "        n)\n",
    "    )\n",
    "    return n * 10.\n",
    "\n",
    "\n",
    "#Initiate the threads\n",
    "ex = futures.ThreadPoolExecutor(max_workers=2)\n",
    "print('main: starting')\n",
    "\n",
    "#Start the threads\n",
    "results = ex.map(task, range(5, 0, -1))\n",
    "\n",
    "print('main: waiting for real results')\n",
    "real_results = list(results)\n",
    "print('main: results: {}'.format(real_results))"
   ]
  },
  {
   "cell_type": "markdown",
   "metadata": {},
   "source": [
    "It is also possible to schedule individual tasks:"
   ]
  },
  {
   "cell_type": "code",
   "execution_count": 9,
   "metadata": {},
   "outputs": [
    {
     "name": "stdout",
     "output_type": "stream",
     "text": [
      "main: starting\n",
      "ThreadPoolExecutor-7_0: sleeping 5\n",
      "main: future: <Future at 0x146d500f4b50 state=running>\n",
      "main: waiting for results\n",
      "ThreadPoolExecutor-7_0: done with 5\n",
      "main: result: 50.0\n",
      "main: future after result: <Future at 0x146d500f4b50 state=finished returned float>\n"
     ]
    }
   ],
   "source": [
    "from concurrent import futures\n",
    "import threading\n",
    "import time\n",
    "\n",
    "\n",
    "def task(n):\n",
    "    print('{}: sleeping {}'.format(\n",
    "        threading.current_thread().name,\n",
    "        n)\n",
    "    )\n",
    "    time.sleep(n)\n",
    "    print('{}: done with {}'.format(\n",
    "        threading.current_thread().name,\n",
    "        n)\n",
    "    )\n",
    "    return n * 10.\n",
    "\n",
    "ex = futures.ThreadPoolExecutor(max_workers=2)\n",
    "print('main: starting')\n",
    "f = ex.submit(task, 5)\n",
    "print('main: future: {}'.format(f))\n",
    "print('main: waiting for results')\n",
    "result = f.result()\n",
    "print('main: result: {}'.format(result))\n",
    "print('main: future after result: {}'.format(f))"
   ]
  },
  {
   "cell_type": "markdown",
   "metadata": {},
   "source": [
    "Invoking the ```result()``` method of a Future blocks until the task completes (either by returning a value or raising an exception), or is canceled. \n",
    "\n",
    "The results of multiple tasks can be accessed in the order the tasks were scheduled using ```map()```. If it does not matter what order the results should be processed, use ```as_completed()``` to process them as each task finishes."
   ]
  },
  {
   "cell_type": "code",
   "execution_count": 11,
   "metadata": {},
   "outputs": [
    {
     "name": "stdout",
     "output_type": "stream",
     "text": [
      "main: starting\n",
      "main: result: (1, 10.0)\n",
      "main: result: (3, 30.0)\n",
      "main: result: (4, 40.0)\n",
      "main: result: (5, 50.0)\n",
      "main: result: (2, 20.0)\n"
     ]
    }
   ],
   "source": [
    "from concurrent import futures\n",
    "import random\n",
    "import time\n",
    "\n",
    "\n",
    "def task(n):\n",
    "    t = random.randint(1,5)\n",
    "    time.sleep(t)\n",
    "    return (n, n * 10.)\n",
    "\n",
    "\n",
    "ex = futures.ThreadPoolExecutor(max_workers=5)\n",
    "print('main: starting')\n",
    "\n",
    "wait_for = [\n",
    "    ex.submit(task, i)\n",
    "    for i in range(5, 0, -1)\n",
    "]\n",
    "\n",
    "for f in futures.as_completed(wait_for):\n",
    "    print('main: result: {}'.format(f.result()))"
   ]
  },
  {
   "cell_type": "markdown",
   "metadata": {},
   "source": [
    "To take some action when a task completed, without explicitly waiting for the result, use ```add_done_callback()``` to specify a new function to call when the Future is done. \n",
    "\n",
    "The callback should be a callable taking a single argument, the Future instance."
   ]
  },
  {
   "cell_type": "code",
   "execution_count": 17,
   "metadata": {
    "scrolled": true
   },
   "outputs": [
    {
     "name": "stdout",
     "output_type": "stream",
     "text": [
      "main: starting\n",
      "task sleeping for 5 seconds\n",
      "moving on I think I want to call task again\n",
      "task sleeping for 1 seconds\n",
      "task (agument 1) done\n",
      "Calling task again:  10\n",
      "task (agument 5) done\n",
      "5: value returned: 50\n"
     ]
    }
   ],
   "source": [
    "from concurrent import futures\n",
    "import time\n",
    "\n",
    "\n",
    "def task(n):\n",
    "    print('task sleeping for {} seconds'.format(n))\n",
    "    time.sleep(n)\n",
    "    print('task (agument {}) done'.format(n))\n",
    "    return n * 10\n",
    "\n",
    "\n",
    "def done(fn):\n",
    "    if fn.cancelled():\n",
    "        print('{}: canceled'.format(fn.arg))\n",
    "    elif fn.done():\n",
    "        error = fn.exception()\n",
    "        if error:\n",
    "            print('{}: error returned: {}'.format(\n",
    "                fn.arg, error))\n",
    "        else:\n",
    "            result = fn.result()\n",
    "            print('{}: value returned: {}'.format(\n",
    "                fn.arg, result))\n",
    "\n",
    "\n",
    "if __name__ == '__main__':\n",
    "    #Initiate the threads\n",
    "    ex = futures.ThreadPoolExecutor(max_workers=2)\n",
    "    \n",
    "    #submit the threads to the function \"task\"\n",
    "    print('main: starting')\n",
    "    f = ex.submit(task, 5)\n",
    "    f.arg = 5\n",
    "    \n",
    "    time.sleep(0.1)\n",
    "    print(\"moving on I think I want to call task again\")\n",
    "    \n",
    "    print(\"Calling task again: \",task(1))\n",
    "    \n",
    "    f.add_done_callback(done)\n",
    "    result = f.result()"
   ]
  },
  {
   "cell_type": "markdown",
   "metadata": {},
   "source": [
    "### Process Pools\n",
    "\n",
    "The ProcessPoolExecutor works in the same way as ThreadPoolExecutor, but uses processes instead of threads. This allows CPU-intensive operations to use a separate CPU and not be blocked by the CPython interpreter’s global interpreter lock.\n"
   ]
  },
  {
   "cell_type": "code",
   "execution_count": 23,
   "metadata": {},
   "outputs": [
    {
     "name": "stdout",
     "output_type": "stream",
     "text": [
      "ran task 5 in process 20521\n",
      "ran task 4 in process 20524\n",
      "ran task 3 in process 20524\n",
      "ran task 2 in process 20521\n",
      "ran task 1 in process 20521\n"
     ]
    }
   ],
   "source": [
    "from concurrent import futures\n",
    "import os\n",
    "import time\n",
    "\n",
    "def task(n):\n",
    "    time.sleep(n)\n",
    "    return (n, os.getpid())\n",
    "\n",
    "ex = futures.ProcessPoolExecutor(max_workers=2)\n",
    "results = ex.map(task, range(5, 0, -1))\n",
    "for n, pid in results:\n",
    "    print('ran task {} in process {}'.format(n, pid))"
   ]
  },
  {
   "cell_type": "markdown",
   "metadata": {},
   "source": [
    "As with the thread pool, individual worker processes are reused for multiple tasks. \n",
    "\n",
    "What happens if you comment out the sleep command?"
   ]
  },
  {
   "cell_type": "markdown",
   "metadata": {},
   "source": [
    "### References\n",
    "* https://pymotw.com/3/concurrency.html\n",
    "* https://docs.python.org/3/library/concurrency.html\n"
   ]
  }
 ],
 "metadata": {
  "kernelspec": {
   "display_name": "Python 3 (ipykernel)",
   "language": "python",
   "name": "python3"
  },
  "language_info": {
   "codemirror_mode": {
    "name": "ipython",
    "version": 3
   },
   "file_extension": ".py",
   "mimetype": "text/x-python",
   "name": "python",
   "nbconvert_exporter": "python",
   "pygments_lexer": "ipython3",
   "version": "3.9.5"
  }
 },
 "nbformat": 4,
 "nbformat_minor": 4
}
