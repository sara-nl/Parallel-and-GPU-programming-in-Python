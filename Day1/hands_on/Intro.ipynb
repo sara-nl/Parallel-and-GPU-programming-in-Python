{
 "cells": [
  {
   "cell_type": "markdown",
   "metadata": {},
   "source": [
    "# Introduction to efficient Python CPU programming\n",
    "\n",
    "### Welcome to the SURF Jupyter Hub! \n",
    "\n",
    "JupyterHub provides a multiuser environment for Jupyter notebooks. The SURF JupyterHub service facilitates external courses, e.g. programming courses, and runs on our Lisa cluster.\n",
    "\n",
    "Each course receives its own instance of JupyterHub. Users who log in will be provided with their own Jupyter Notebook Server, where they can create, download, upload and run notebooks. The service provides functionality for teachers to easily share notebooks, data and installations with their students.\n",
    "\n",
    "For more information on the Hub and how to use it, please refer to:\n",
    "https://servicedesk.surfsara.nl/wiki/display/WIKI/JupyterHub+for+education\n",
    "\n",
    "### What is a Jupyter notebook?\n",
    "\n",
    "The Jupyter Notebook is an open source web application that you can use to create and share documents that contain live code, equations, visualizations, and rich text (Markdown). \n",
    "\n",
    "Jupyter Notebook is maintained by the people at [Project Jupyter](https://jupyter.org/).\n",
    "\n",
    "The Jupyter Hub gives users access to computational environments and resources without burdening the users with installation and setup tasks (spawn remotely notebooks and connect them to your local PC). \n",
    "\n",
    "This Jupyter Notebooks is running on a compute node on LISA, check it out!\n",
    "\n",
    "\n",
    "#### With Jupyter we can do both rich text and code"
   ]
  },
  {
   "cell_type": "code",
   "execution_count": 1,
   "metadata": {},
   "outputs": [
    {
     "name": "stdout",
     "output_type": "stream",
     "text": [
      "The Zen of Python, by Tim Peters\n",
      "\n",
      "Beautiful is better than ugly.\n",
      "Explicit is better than implicit.\n",
      "Simple is better than complex.\n",
      "Complex is better than complicated.\n",
      "Flat is better than nested.\n",
      "Sparse is better than dense.\n",
      "Readability counts.\n",
      "Special cases aren't special enough to break the rules.\n",
      "Although practicality beats purity.\n",
      "Errors should never pass silently.\n",
      "Unless explicitly silenced.\n",
      "In the face of ambiguity, refuse the temptation to guess.\n",
      "There should be one-- and preferably only one --obvious way to do it.\n",
      "Although that way may not be obvious at first unless you're Dutch.\n",
      "Now is better than never.\n",
      "Although never is often better than *right* now.\n",
      "If the implementation is hard to explain, it's a bad idea.\n",
      "If the implementation is easy to explain, it may be a good idea.\n",
      "Namespaces are one honking great idea -- let's do more of those!\n"
     ]
    }
   ],
   "source": [
    "import this"
   ]
  },
  {
   "cell_type": "code",
   "execution_count": 2,
   "metadata": {},
   "outputs": [
    {
     "name": "stdout",
     "output_type": "stream",
     "text": [
      "Architecture:                    x86_64\r\n",
      "CPU op-mode(s):                  32-bit, 64-bit\r\n",
      "Byte Order:                      Little Endian\r\n",
      "Address sizes:                   46 bits physical, 48 bits virtual\r\n",
      "CPU(s):                          24\r\n",
      "On-line CPU(s) list:             0-23\r\n",
      "Thread(s) per core:              1\r\n",
      "Core(s) per socket:              12\r\n",
      "Socket(s):                       2\r\n",
      "NUMA node(s):                    4\r\n",
      "Vendor ID:                       GenuineIntel\r\n",
      "CPU family:                      6\r\n",
      "Model:                           85\r\n",
      "Model name:                      Intel(R) Xeon(R) Gold 5118 CPU @ 2.30GHz\r\n",
      "Stepping:                        4\r\n",
      "CPU MHz:                         2601.472\r\n",
      "BogoMIPS:                        4600.00\r\n",
      "Virtualization:                  VT-x\r\n",
      "L1d cache:                       768 KiB\r\n",
      "L1i cache:                       768 KiB\r\n",
      "L2 cache:                        24 MiB\r\n",
      "L3 cache:                        33 MiB\r\n",
      "NUMA node0 CPU(s):               0,4,8,12,16,20\r\n",
      "NUMA node1 CPU(s):               1,5,9,13,17,21\r\n",
      "NUMA node2 CPU(s):               2,6,10,14,18,22\r\n",
      "NUMA node3 CPU(s):               3,7,11,15,19,23\r\n",
      "Vulnerability Itlb multihit:     KVM: Vulnerable\r\n",
      "Vulnerability L1tf:              Mitigation; PTE Inversion\r\n",
      "Vulnerability Mds:               Mitigation; Clear CPU buffers; SMT disabled\r\n",
      "Vulnerability Meltdown:          Mitigation; PTI\r\n",
      "Vulnerability Mmio stale data:   Mitigation; Clear CPU buffers; SMT disabled\r\n",
      "Vulnerability Spec store bypass: Mitigation; Speculative Store Bypass disabled v\r\n",
      "                                 ia prctl and seccomp\r\n",
      "Vulnerability Spectre v1:        Mitigation; usercopy/swapgs barriers and __user\r\n",
      "                                  pointer sanitization\r\n",
      "Vulnerability Spectre v2:        Mitigation; Retpolines, IBPB conditional, IBRS_\r\n",
      "                                 FW, RSB filling, PBRSB-eIBRS Not affected\r\n",
      "Vulnerability Srbds:             Not affected\r\n",
      "Vulnerability Tsx async abort:   Mitigation; Clear CPU buffers; SMT disabled\r\n",
      "Flags:                           fpu vme de pse tsc msr pae mce cx8 apic sep mtr\r\n",
      "                                 r pge mca cmov pat pse36 clflush dts acpi mmx f\r\n",
      "                                 xsr sse sse2 ss ht tm pbe syscall nx pdpe1gb rd\r\n",
      "                                 tscp lm constant_tsc art arch_perfmon pebs bts \r\n",
      "                                 rep_good nopl xtopology nonstop_tsc cpuid aperf\r\n",
      "                                 mperf pni pclmulqdq dtes64 monitor ds_cpl vmx s\r\n",
      "                                 mx est tm2 ssse3 sdbg fma cx16 xtpr pdcm pcid d\r\n",
      "                                 ca sse4_1 sse4_2 x2apic movbe popcnt tsc_deadli\r\n",
      "                                 ne_timer aes xsave avx f16c rdrand lahf_lm abm \r\n",
      "                                 3dnowprefetch cpuid_fault epb cat_l3 cdp_l3 inv\r\n",
      "                                 pcid_single pti intel_ppin ssbd mba ibrs ibpb s\r\n",
      "                                 tibp tpr_shadow vnmi flexpriority ept vpid ept_\r\n",
      "                                 ad fsgsbase tsc_adjust bmi1 hle avx2 smep bmi2 \r\n",
      "                                 erms invpcid rtm cqm mpx rdt_a avx512f avx512dq\r\n",
      "                                  rdseed adx smap clflushopt clwb intel_pt avx51\r\n",
      "                                 2cd avx512bw avx512vl xsaveopt xsavec xgetbv1 x\r\n",
      "                                 saves cqm_llc cqm_occup_llc cqm_mbm_total cqm_m\r\n",
      "                                 bm_local dtherm ida arat pln pts pku ospke md_c\r\n",
      "                                 lear flush_l1d arch_capabilities\r\n"
     ]
    }
   ],
   "source": [
    "!lscpu"
   ]
  },
  {
   "cell_type": "markdown",
   "metadata": {},
   "source": [
    "### Jupyter has some \"magic\" builtin commands. \n",
    "\n",
    "Here's how to list them"
   ]
  },
  {
   "cell_type": "code",
   "execution_count": 5,
   "metadata": {
    "scrolled": true
   },
   "outputs": [
    {
     "data": {
      "application/json": {
       "cell": {
        "!": "OSMagics",
        "HTML": "Other",
        "SVG": "Other",
        "bash": "Other",
        "capture": "ExecutionMagics",
        "debug": "ExecutionMagics",
        "file": "Other",
        "html": "DisplayMagics",
        "javascript": "DisplayMagics",
        "js": "DisplayMagics",
        "latex": "DisplayMagics",
        "markdown": "DisplayMagics",
        "perl": "Other",
        "prun": "ExecutionMagics",
        "pypy": "Other",
        "python": "Other",
        "python2": "Other",
        "python3": "Other",
        "ruby": "Other",
        "script": "ScriptMagics",
        "sh": "Other",
        "svg": "DisplayMagics",
        "sx": "OSMagics",
        "system": "OSMagics",
        "time": "ExecutionMagics",
        "timeit": "ExecutionMagics",
        "writefile": "OSMagics"
       },
       "line": {
        "alias": "OSMagics",
        "alias_magic": "BasicMagics",
        "autoawait": "AsyncMagics",
        "autocall": "AutoMagics",
        "automagic": "AutoMagics",
        "autosave": "KernelMagics",
        "bookmark": "OSMagics",
        "cat": "Other",
        "cd": "OSMagics",
        "clear": "KernelMagics",
        "colors": "BasicMagics",
        "conda": "PackagingMagics",
        "config": "ConfigMagics",
        "connect_info": "KernelMagics",
        "cp": "Other",
        "debug": "ExecutionMagics",
        "dhist": "OSMagics",
        "dirs": "OSMagics",
        "doctest_mode": "BasicMagics",
        "ed": "Other",
        "edit": "KernelMagics",
        "env": "OSMagics",
        "gui": "BasicMagics",
        "hist": "Other",
        "history": "HistoryMagics",
        "killbgscripts": "ScriptMagics",
        "ldir": "Other",
        "less": "KernelMagics",
        "lf": "Other",
        "lk": "Other",
        "ll": "Other",
        "load": "CodeMagics",
        "load_ext": "ExtensionMagics",
        "loadpy": "CodeMagics",
        "logoff": "LoggingMagics",
        "logon": "LoggingMagics",
        "logstart": "LoggingMagics",
        "logstate": "LoggingMagics",
        "logstop": "LoggingMagics",
        "ls": "Other",
        "lsmagic": "BasicMagics",
        "lx": "Other",
        "macro": "ExecutionMagics",
        "magic": "BasicMagics",
        "man": "KernelMagics",
        "matplotlib": "PylabMagics",
        "mkdir": "Other",
        "more": "KernelMagics",
        "mv": "Other",
        "notebook": "BasicMagics",
        "page": "BasicMagics",
        "pastebin": "CodeMagics",
        "pdb": "ExecutionMagics",
        "pdef": "NamespaceMagics",
        "pdoc": "NamespaceMagics",
        "pfile": "NamespaceMagics",
        "pinfo": "NamespaceMagics",
        "pinfo2": "NamespaceMagics",
        "pip": "PackagingMagics",
        "popd": "OSMagics",
        "pprint": "BasicMagics",
        "precision": "BasicMagics",
        "prun": "ExecutionMagics",
        "psearch": "NamespaceMagics",
        "psource": "NamespaceMagics",
        "pushd": "OSMagics",
        "pwd": "OSMagics",
        "pycat": "OSMagics",
        "pylab": "PylabMagics",
        "qtconsole": "KernelMagics",
        "quickref": "BasicMagics",
        "recall": "HistoryMagics",
        "rehashx": "OSMagics",
        "reload_ext": "ExtensionMagics",
        "rep": "Other",
        "rerun": "HistoryMagics",
        "reset": "NamespaceMagics",
        "reset_selective": "NamespaceMagics",
        "rm": "Other",
        "rmdir": "Other",
        "run": "ExecutionMagics",
        "save": "CodeMagics",
        "sc": "OSMagics",
        "set_env": "OSMagics",
        "store": "StoreMagics",
        "sx": "OSMagics",
        "system": "OSMagics",
        "tb": "ExecutionMagics",
        "time": "ExecutionMagics",
        "timeit": "ExecutionMagics",
        "unalias": "OSMagics",
        "unload_ext": "ExtensionMagics",
        "who": "NamespaceMagics",
        "who_ls": "NamespaceMagics",
        "whos": "NamespaceMagics",
        "xdel": "NamespaceMagics",
        "xmode": "BasicMagics"
       }
      },
      "text/plain": [
       "Available line magics:\n",
       "%alias  %alias_magic  %autoawait  %autocall  %automagic  %autosave  %bookmark  %cat  %cd  %clear  %colors  %conda  %config  %connect_info  %cp  %debug  %dhist  %dirs  %doctest_mode  %ed  %edit  %env  %gui  %hist  %history  %killbgscripts  %ldir  %less  %lf  %lk  %ll  %load  %load_ext  %loadpy  %logoff  %logon  %logstart  %logstate  %logstop  %ls  %lsmagic  %lx  %macro  %magic  %man  %matplotlib  %mkdir  %more  %mv  %notebook  %page  %pastebin  %pdb  %pdef  %pdoc  %pfile  %pinfo  %pinfo2  %pip  %popd  %pprint  %precision  %prun  %psearch  %psource  %pushd  %pwd  %pycat  %pylab  %qtconsole  %quickref  %recall  %rehashx  %reload_ext  %rep  %rerun  %reset  %reset_selective  %rm  %rmdir  %run  %save  %sc  %set_env  %store  %sx  %system  %tb  %time  %timeit  %unalias  %unload_ext  %who  %who_ls  %whos  %xdel  %xmode\n",
       "\n",
       "Available cell magics:\n",
       "%%!  %%HTML  %%SVG  %%bash  %%capture  %%debug  %%file  %%html  %%javascript  %%js  %%latex  %%markdown  %%perl  %%prun  %%pypy  %%python  %%python2  %%python3  %%ruby  %%script  %%sh  %%svg  %%sx  %%system  %%time  %%timeit  %%writefile\n",
       "\n",
       "Automagic is ON, % prefix IS NOT needed for line magics."
      ]
     },
     "execution_count": 5,
     "metadata": {},
     "output_type": "execute_result"
    }
   ],
   "source": [
    "%lsmagic"
   ]
  },
  {
   "cell_type": "markdown",
   "metadata": {},
   "source": [
    "To know more about each %magic command, you can use:"
   ]
  },
  {
   "cell_type": "code",
   "execution_count": 25,
   "metadata": {},
   "outputs": [],
   "source": [
    "%autoawait?"
   ]
  },
  {
   "cell_type": "markdown",
   "metadata": {},
   "source": [
    "If you are interested in the source code of the command:"
   ]
  },
  {
   "cell_type": "code",
   "execution_count": 17,
   "metadata": {},
   "outputs": [],
   "source": [
    "%autoawait??"
   ]
  },
  {
   "cell_type": "markdown",
   "metadata": {},
   "source": [
    "### Let's see some of the more interesting \"magic\" builtin functions:"
   ]
  },
  {
   "cell_type": "markdown",
   "metadata": {},
   "source": [
    "How to list environment variable set on the underlying BASH shell"
   ]
  },
  {
   "cell_type": "code",
   "execution_count": 4,
   "metadata": {},
   "outputs": [
    {
     "data": {
      "text/plain": [
       "'/project/jhlsrf018'"
      ]
     },
     "execution_count": 4,
     "metadata": {},
     "output_type": "execute_result"
    }
   ],
   "source": [
    "%env TEACHER_DIR"
   ]
  },
  {
   "cell_type": "markdown",
   "metadata": {},
   "source": [
    "You can also modify them from the cell"
   ]
  },
  {
   "cell_type": "code",
   "execution_count": 2,
   "metadata": {},
   "outputs": [
    {
     "name": "stdout",
     "output_type": "stream",
     "text": [
      "env: OMP_NUM_THREADS=16\n"
     ]
    }
   ],
   "source": [
    "%env OMP_NUM_THREADS=16"
   ]
  },
  {
   "cell_type": "code",
   "execution_count": 23,
   "metadata": {},
   "outputs": [],
   "source": [
    "!export OMP_NUM_THREADS=16"
   ]
  },
  {
   "cell_type": "markdown",
   "metadata": {},
   "source": [
    "You can actually run BASH programs"
   ]
  },
  {
   "cell_type": "code",
   "execution_count": 26,
   "metadata": {},
   "outputs": [
    {
     "name": "stdout",
     "output_type": "stream",
     "text": [
      "Hello 1\n",
      "Hello 2\n"
     ]
    }
   ],
   "source": [
    "%%bash\n",
    "echo \"Hello 1\"\n",
    "sleep 5\n",
    "echo \"Hello 2\""
   ]
  },
  {
   "cell_type": "markdown",
   "metadata": {},
   "source": [
    "And write files directly from within the cell"
   ]
  },
  {
   "cell_type": "code",
   "execution_count": 9,
   "metadata": {},
   "outputs": [
    {
     "name": "stdout",
     "output_type": "stream",
     "text": [
      "Writing hello_world.py\n"
     ]
    }
   ],
   "source": [
    "%%writefile hello_world.py\n",
    "if __name__ == \"__main__\":\n",
    "    print(\"Hello World!\")"
   ]
  },
  {
   "cell_type": "markdown",
   "metadata": {},
   "source": [
    "And  you can execute python programs inside the notebook"
   ]
  },
  {
   "cell_type": "code",
   "execution_count": 10,
   "metadata": {},
   "outputs": [
    {
     "name": "stdout",
     "output_type": "stream",
     "text": [
      "Hello World!\n"
     ]
    }
   ],
   "source": [
    "%run ./hello_world.py"
   ]
  },
  {
   "cell_type": "code",
   "execution_count": 11,
   "metadata": {},
   "outputs": [
    {
     "name": "stdout",
     "output_type": "stream",
     "text": [
      "Hello World!\r\n"
     ]
    }
   ],
   "source": [
    "!python hello_world.py"
   ]
  },
  {
   "cell_type": "markdown",
   "metadata": {},
   "source": [
    "## Examples for lightweight profiling your code\n",
    "\n",
    " -  **%timeit** A very usefull magic function (especially for this course!)\n",
    " -  **time** (module) This module provides various time-related functions.\n",
    " -  **cProfile** (module) This module is recommended for most users; it’s a C extension with reasonable overhead that makes it suitable for profiling long-running programs. Based on lsprof, contributed by Brett Rosen and Ted Czotter."
   ]
  },
  {
   "cell_type": "code",
   "execution_count": 30,
   "metadata": {},
   "outputs": [
    {
     "name": "stdout",
     "output_type": "stream",
     "text": [
      "429 ns ± 5.76 ns per loop (mean ± std. dev. of 7 runs, 1000000 loops each)\n"
     ]
    }
   ],
   "source": [
    "import random\n",
    "\n",
    "a = [random.random() for i in range(100)]\n",
    "b = [random.random() for i in range(100)]\n",
    "\n",
    "%timeit a+b"
   ]
  },
  {
   "cell_type": "markdown",
   "metadata": {},
   "source": [
    "Let's use it now for something more interesting..."
   ]
  },
  {
   "cell_type": "markdown",
   "metadata": {},
   "source": [
    "![matmul_diagram](https://upload.wikimedia.org/wikipedia/commons/e/eb/Matrix_multiplication_diagram_2.svg)"
   ]
  },
  {
   "cell_type": "markdown",
   "metadata": {},
   "source": [
    "![Matmul_eqn](https://miro.medium.com/max/674/1*NFxuJRT-GltSryxfW_hdgw.png)"
   ]
  },
  {
   "cell_type": "code",
   "execution_count": 8,
   "metadata": {},
   "outputs": [
    {
     "name": "stdout",
     "output_type": "stream",
     "text": [
      "Explicit:\n",
      "1.51 s ± 2.1 ms per loop (mean ± std. dev. of 7 runs, 1 loop each)\n",
      "numpy:\n",
      "10.5 ms ± 44.4 µs per loop (mean ± std. dev. of 7 runs, 100 loops each)\n"
     ]
    }
   ],
   "source": [
    "# Simple Matrix multiplication \n",
    "import numpy as np\n",
    "from random import random\n",
    "\n",
    "def explicit_matmul(A,B):\n",
    "    C = [[0 for x in range(len(A))] for y in range(len(B[0]))]\n",
    "    for i in range(len(A)):\n",
    "        for j in range(len(B[0])):\n",
    "            for k in range(len(B)):\n",
    "                C[i][j] += A[i][k] * B[k][j]\n",
    "    return C\n",
    "\n",
    "# Simple Matrix multiplication algorithm\n",
    "def numpy_matmul(A,B):\n",
    "    npA = np.array(A)\n",
    "    npB = np.array(B)\n",
    "    C = np.matmul(A,B)\n",
    "    return C\n",
    "\n",
    "#Set matrix dimension\n",
    "AX=AY=BX=BY=200\n",
    "\n",
    "#Define Matrix A\n",
    "A = [[random() for x in range(AX)] for y in range(AY)]\n",
    "\n",
    "#Define Matrix B\n",
    "B = [[random() for x in range(BX)] for y in range(BY)]\n",
    "\n",
    "#And now time the two runs and compare the results\n",
    "print(\"Explicit:\")\n",
    "%timeit explicit_matmul(A,B)\n",
    "\n",
    "print(\"numpy:\")\n",
    "%timeit numpy_matmul(A,B)"
   ]
  },
  {
   "cell_type": "code",
   "execution_count": 37,
   "metadata": {},
   "outputs": [
    {
     "name": "stdout",
     "output_type": "stream",
     "text": [
      "         10304 function calls in 0.204 seconds\n",
      "\n",
      "   Ordered by: standard name\n",
      "\n",
      "   ncalls  tottime  percall  cumtime  percall filename:lineno(function)\n",
      "      100    0.001    0.000    0.001    0.000 896216640.py:11(<listcomp>)\n",
      "        1    0.203    0.203    0.204    0.204 896216640.py:9(explicit_matmul)\n",
      "    10202    0.001    0.000    0.001    0.000 {built-in method builtins.len}\n",
      "        1    0.000    0.000    0.000    0.000 {method 'disable' of '_lsprof.Profiler' objects}\n",
      "\n",
      "\n",
      "Time of function execution is 205996428 ns\n"
     ]
    }
   ],
   "source": [
    "import time \n",
    "\n",
    "start = time.perf_counter_ns()\n",
    "explicit_matmul(A,B)\n",
    "end = time.perf_counter_ns()\n",
    "\n",
    "print(\"Time of function execution is \" +str(round(end-start)) + \" ns\")"
   ]
  },
  {
   "cell_type": "markdown",
   "metadata": {},
   "source": [
    "With Python with can also profile our functions with the use of the \"cProfile\" module"
   ]
  },
  {
   "cell_type": "code",
   "execution_count": 38,
   "metadata": {},
   "outputs": [
    {
     "name": "stdout",
     "output_type": "stream",
     "text": [
      "         10304 function calls in 0.198 seconds\n",
      "\n",
      "   Ordered by: standard name\n",
      "\n",
      "   ncalls  tottime  percall  cumtime  percall filename:lineno(function)\n",
      "      100    0.001    0.000    0.001    0.000 896216640.py:11(<listcomp>)\n",
      "        1    0.196    0.196    0.198    0.198 896216640.py:9(explicit_matmul)\n",
      "    10202    0.001    0.000    0.001    0.000 {built-in method builtins.len}\n",
      "        1    0.000    0.000    0.000    0.000 {method 'disable' of '_lsprof.Profiler' objects}\n",
      "\n",
      "\n",
      "         4 function calls in 0.200 seconds\n",
      "\n",
      "   Ordered by: standard name\n",
      "\n",
      "   ncalls  tottime  percall  cumtime  percall filename:lineno(function)\n",
      "        1    0.000    0.000    0.199    0.199 4044252659.py:4(profiled_func)\n",
      "        1    0.000    0.000    0.199    0.199 <string>:1(<module>)\n",
      "        1    0.000    0.000    0.200    0.200 {built-in method builtins.exec}\n",
      "        1    0.199    0.199    0.199    0.199 {method 'enable' of '_lsprof.Profiler' objects}\n",
      "\n",
      "\n"
     ]
    }
   ],
   "source": [
    "import cProfile\n",
    "\n",
    "cProfile.run('explicit_matmul(A,B)') #By default the run method prints to the std out\n"
   ]
  },
  {
   "cell_type": "code",
   "execution_count": 18,
   "metadata": {},
   "outputs": [],
   "source": [
    "cProfile.run('explicit_matmul(A,B)',\"my_perf_file.out\") #By default the run method prints to the std out"
   ]
  },
  {
   "cell_type": "markdown",
   "metadata": {},
   "source": [
    "Now we can investigate the pofiling a little closer with the **pstats.Stats class**"
   ]
  },
  {
   "cell_type": "code",
   "execution_count": 29,
   "metadata": {},
   "outputs": [
    {
     "name": "stdout",
     "output_type": "stream",
     "text": [
      "Thu Nov 17 11:31:26 2022    my_perf_file.out\n",
      "\n",
      "         40606 function calls in 1.532 seconds\n",
      "\n",
      "   Ordered by: internal time\n",
      "\n",
      "   ncalls  tottime  percall  cumtime  percall filename:lineno(function)\n",
      "        1    1.525    1.525    1.532    1.532 /tmp/ipykernel_13713/433218466.py:5(explicit_matmul)\n",
      "      200    0.003    0.000    0.003    0.000 /tmp/ipykernel_13713/433218466.py:6(<listcomp>)\n",
      "    40402    0.003    0.000    0.003    0.000 {built-in method builtins.len}\n",
      "        1    0.000    0.000    1.533    1.533 <string>:1(<module>)\n",
      "        1    0.000    0.000    1.533    1.533 {built-in method builtins.exec}\n",
      "        1    0.000    0.000    0.000    0.000 {method 'disable' of '_lsprof.Profiler' objects}\n",
      "\n",
      "\n",
      "Thu Nov 17 11:31:26 2022    my_perf_file.out\n",
      "\n",
      "         40606 function calls in 1.532 seconds\n",
      "\n",
      "   Ordered by: call count\n",
      "\n",
      "   ncalls  tottime  percall  cumtime  percall filename:lineno(function)\n",
      "    40402    0.003    0.000    0.003    0.000 {built-in method builtins.len}\n",
      "      200    0.003    0.000    0.003    0.000 /tmp/ipykernel_13713/433218466.py:6(<listcomp>)\n",
      "        1    0.000    0.000    1.533    1.533 <string>:1(<module>)\n",
      "        1    1.525    1.525    1.532    1.532 /tmp/ipykernel_13713/433218466.py:5(explicit_matmul)\n",
      "        1    0.000    0.000    0.000    0.000 {method 'disable' of '_lsprof.Profiler' objects}\n",
      "        1    0.000    0.000    1.533    1.533 {built-in method builtins.exec}\n",
      "\n",
      "\n",
      "Thu Nov 17 11:31:26 2022    my_perf_file.out\n",
      "\n",
      "         40606 function calls in 1.532 seconds\n",
      "\n",
      "   Ordered by: call count\n",
      "\n",
      "   ncalls  tottime  percall  cumtime  percall filename:lineno(function)\n",
      "        1    0.000    0.000    1.533    1.533 {built-in method builtins.exec}\n",
      "        1    0.000    0.000    0.000    0.000 {method 'disable' of '_lsprof.Profiler' objects}\n",
      "        1    1.525    1.525    1.532    1.532 /tmp/ipykernel_13713/433218466.py:5(explicit_matmul)\n",
      "        1    0.000    0.000    1.533    1.533 <string>:1(<module>)\n",
      "      200    0.003    0.000    0.003    0.000 /tmp/ipykernel_13713/433218466.py:6(<listcomp>)\n",
      "    40402    0.003    0.000    0.003    0.000 {built-in method builtins.len}\n",
      "\n",
      "\n"
     ]
    },
    {
     "data": {
      "text/plain": [
       "<pstats.Stats at 0x15389dbd6910>"
      ]
     },
     "execution_count": 29,
     "metadata": {},
     "output_type": "execute_result"
    }
   ],
   "source": [
    "import pstats\n",
    "from pstats import SortKey\n",
    "\n",
    "p = pstats.Stats('my_perf_file.out')  #read in the profile data\n",
    "\n",
    "#you can sort by the internal time\n",
    "p.sort_stats('time')\n",
    "p.print_stats()\n",
    "\n",
    "#you can sort by the number of calls\n",
    "p.sort_stats('calls')\n",
    "p.print_stats()\n",
    "\n",
    "#you can reverse the order\n",
    "p.reverse_order()\n",
    "p.print_stats()\n"
   ]
  },
  {
   "cell_type": "markdown",
   "metadata": {},
   "source": [
    "cProfile can also be invoked as a script to profile another script:\n",
    "\n",
    "```python -m cProfile [-o output_file] [-s sort_order] (-m module | myscript.py)```\n",
    "\n",
    "\n",
    "If you want to use cProfile quickly in your Jupyter notebook, you can define the following function"
   ]
  },
  {
   "cell_type": "code",
   "execution_count": 31,
   "metadata": {},
   "outputs": [],
   "source": [
    "import cProfile\n",
    "\n",
    "def do_profile(func):\n",
    "    def profiled_func(*args, **kwargs):\n",
    "        profile = cProfile.Profile()\n",
    "        try:\n",
    "            profile.enable()\n",
    "            result = func(*args, **kwargs)\n",
    "            profile.disable()\n",
    "            return result\n",
    "        finally:\n",
    "            profile.print_stats()\n",
    "    return profiled_func"
   ]
  },
  {
   "cell_type": "markdown",
   "metadata": {},
   "source": [
    "By decorating functions with ```@do_profile```,  can then analyse the behaviour of our code"
   ]
  },
  {
   "cell_type": "code",
   "execution_count": 36,
   "metadata": {},
   "outputs": [
    {
     "name": "stdout",
     "output_type": "stream",
     "text": [
      "         4 function calls in 0.010 seconds\n",
      "\n",
      "   Ordered by: standard name\n",
      "\n",
      "   ncalls  tottime  percall  cumtime  percall filename:lineno(function)\n",
      "        1    0.008    0.008    0.010    0.010 896216640.py:2(numpy_matmul)\n",
      "        2    0.002    0.001    0.002    0.001 {built-in method numpy.array}\n",
      "        1    0.000    0.000    0.000    0.000 {method 'disable' of '_lsprof.Profiler' objects}\n",
      "\n",
      "\n",
      "         10304 function calls in 0.190 seconds\n",
      "\n",
      "   Ordered by: standard name\n",
      "\n",
      "   ncalls  tottime  percall  cumtime  percall filename:lineno(function)\n",
      "      100    0.000    0.000    0.000    0.000 896216640.py:11(<listcomp>)\n",
      "        1    0.189    0.189    0.190    0.190 896216640.py:9(explicit_matmul)\n",
      "    10202    0.001    0.000    0.001    0.000 {built-in method builtins.len}\n",
      "        1    0.000    0.000    0.000    0.000 {method 'disable' of '_lsprof.Profiler' objects}\n",
      "\n",
      "\n"
     ]
    }
   ],
   "source": [
    "# Simple Matrix multiplication algorithm\n",
    "@do_profile\n",
    "def numpy_matmul(A,B):\n",
    "    npA = np.array(A)\n",
    "    npB = np.array(B)\n",
    "    C = np.matmul(A,B)\n",
    "    return C\n",
    "\n",
    "@do_profile\n",
    "def explicit_matmul(A,B):\n",
    "    C = [[0 for x in range(len(A))] for y in range(len(B[0]))]\n",
    "    for i in range(len(A)):\n",
    "        for j in range(len(B[0])):\n",
    "            for k in range(len(B)):\n",
    "                C[i][j] += A[i][k] * B[k][j]\n",
    "    return C\n",
    "\n",
    "#Set matrix dimension\n",
    "AX=AY=BX=BY=100\n",
    "\n",
    "#Define Matrix A\n",
    "A = [[random() for x in range(AX)] for y in range(AY)]\n",
    "\n",
    "#Define Matrix B\n",
    "B = [[random() for x in range(BX)] for y in range(BY)]\n",
    "\n",
    "res = numpy_matmul(A,B)\n",
    "\n",
    "res = explicit_matmul(A,B)"
   ]
  },
  {
   "cell_type": "markdown",
   "metadata": {},
   "source": [
    "### References\n",
    "* https://jupyter.org/\n",
    "* https://ipython.readthedocs.io/en/stable/interactive/magics.html\n",
    "* https://numpy.org/doc/stable/contents.html\n",
    "* https://scipy-cookbook.readthedocs.io/items/ParallelProgramming.html\n",
    "* https://docs.python.org/3/library/profile.html\n"
   ]
  },
  {
   "cell_type": "code",
   "execution_count": null,
   "metadata": {},
   "outputs": [],
   "source": []
  }
 ],
 "metadata": {
  "kernelspec": {
   "display_name": "Python 3 (ipykernel)",
   "language": "python",
   "name": "python3"
  },
  "language_info": {
   "codemirror_mode": {
    "name": "ipython",
    "version": 3
   },
   "file_extension": ".py",
   "mimetype": "text/x-python",
   "name": "python",
   "nbconvert_exporter": "python",
   "pygments_lexer": "ipython3",
   "version": "3.9.5"
  }
 },
 "nbformat": 4,
 "nbformat_minor": 4
}
