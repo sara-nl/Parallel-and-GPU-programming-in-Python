{
 "cells": [
  {
   "cell_type": "markdown",
   "id": "6d7bd469",
   "metadata": {},
   "source": [
    "# Parallel programming for CPU \n",
    "\n",
    "### Thread-based parallelism via the  threading module\n",
    "\n",
    "the [threading](https://docs.python.org/3/library/threading.html) module - includes a high-level, object oriented, API for working with concurrency from Python. Thread objects run concurrently within the same process and share memory with other thread objects. Using threads is an easy way to scale for tasks that are more I/O bound than CPU bound. The python threading module is used to manage the execution of threads within a process. It allows a program to run multiple operations concurrently in the same process space.\n",
    "\n",
    "----"
   ]
  },
  {
   "cell_type": "code",
   "execution_count": 60,
   "id": "633efd4f",
   "metadata": {},
   "outputs": [
    {
     "name": "stdout",
     "output_type": "stream",
     "text": [
      "Worker\n",
      "Worker\n",
      "Worker\n",
      "Worker\n",
      "Worker\n"
     ]
    }
   ],
   "source": [
    "import threading\n",
    "\n",
    "def worker():\n",
    "    \"\"\"thread worker function\"\"\"\n",
    "    print('Worker')\n",
    "\n",
    "\n",
    "threads = []\n",
    "for i in range(5):\n",
    "    t = threading.Thread(target=worker)\n",
    "    threads.append(t)\n",
    "    t.start()"
   ]
  },
  {
   "cell_type": "markdown",
   "id": "884667b1",
   "metadata": {},
   "source": [
    "It is useful to be able to spawn a thread and pass it arguments to tell it what work to do. Any type of object can be passed as argument to the thread. This example passes a number, which the thread prints."
   ]
  },
  {
   "cell_type": "code",
   "execution_count": 61,
   "id": "59cc0d3b",
   "metadata": {},
   "outputs": [
    {
     "name": "stdout",
     "output_type": "stream",
     "text": [
      "Worker: 0\n",
      "Worker: 1\n",
      "Worker: 2\n",
      "Worker: 3\n",
      "Worker: 4\n"
     ]
    }
   ],
   "source": [
    "import threading\n",
    "import time\n",
    "\n",
    "def worker(number):\n",
    "    \"\"\"thread worker function\"\"\"\n",
    "    time.sleep(number)\n",
    "    print('Worker: %s' % number)\n",
    "    \n",
    "threads = []\n",
    "for i in range(5):\n",
    "    t = threading.Thread(target=worker, args=[i])\n",
    "    threads.append(t)\n",
    "    t.start()"
   ]
  },
  {
   "cell_type": "markdown",
   "id": "fc7f6401",
   "metadata": {},
   "source": [
    "Threads can be named with:"
   ]
  },
  {
   "cell_type": "code",
   "execution_count": 9,
   "id": "72fc5c15",
   "metadata": {},
   "outputs": [
    {
     "ename": "IndexError",
     "evalue": "Replacement index 0 out of range for positional args tuple",
     "output_type": "error",
     "traceback": [
      "\u001b[0;31m---------------------------------------------------------------------------\u001b[0m",
      "\u001b[0;31mIndexError\u001b[0m                                Traceback (most recent call last)",
      "\u001b[0;32m/tmp/ipykernel_22055/1602381618.py\u001b[0m in \u001b[0;36m<module>\u001b[0;34m\u001b[0m\n\u001b[0;32m----> 1\u001b[0;31m \u001b[0mthreading\u001b[0m\u001b[0;34m.\u001b[0m\u001b[0mThread\u001b[0m\u001b[0;34m(\u001b[0m\u001b[0mname\u001b[0m\u001b[0;34m=\u001b[0m\u001b[0;34m'{}'\u001b[0m\u001b[0;34m.\u001b[0m\u001b[0mformat\u001b[0m\u001b[0;34m(\u001b[0m\u001b[0;34m)\u001b[0m\u001b[0;34m,\u001b[0m \u001b[0mtarget\u001b[0m\u001b[0;34m=\u001b[0m\u001b[0mworker\u001b[0m\u001b[0;34m)\u001b[0m\u001b[0;34m\u001b[0m\u001b[0;34m\u001b[0m\u001b[0m\n\u001b[0m",
      "\u001b[0;31mIndexError\u001b[0m: Replacement index 0 out of range for positional args tuple"
     ]
    }
   ],
   "source": [
    "threading.Thread(name='{}'.format(), target=worker)"
   ]
  },
  {
   "cell_type": "markdown",
   "id": "c49683a1",
   "metadata": {},
   "source": [
    "In order to identify the current thread one can use:"
   ]
  },
  {
   "cell_type": "code",
   "execution_count": 14,
   "id": "d2396fc6",
   "metadata": {},
   "outputs": [
    {
     "name": "stdout",
     "output_type": "stream",
     "text": [
      "MainThread\n",
      "22055\n"
     ]
    }
   ],
   "source": [
    "print(threading.current_thread().getName())\n",
    "print(threading.current_thread().native_id)"
   ]
  },
  {
   "cell_type": "markdown",
   "id": "6a36d85e",
   "metadata": {},
   "source": [
    "----\n",
    "\n",
    "## Deamons vs. Non-deamons threads\n",
    "\n",
    "Up to this point, the examples above have implicitly waited for all threads to complete their work before exiting (these are called Non-deamon threads). Sometimes it is beneficial for programs to spawn a thread as a daemon which will run without blocking the main program from exiting.\n",
    "\n",
    "Using daemon threads is useful for services where there may not be an easy way to interrupt the thread, or where letting the thread die in the middle of its work does not lose or corrupt data (for example, a thread that generates “heart beats” for a service monitoring tool). To mark a thread as a daemon, pass `daemon=True` when constructing it or call its `set_daemon()` method with `True`. \n",
    "\n",
    "The default is for threads (in the threading module) to not be daemons.\n",
    "\n",
    "----"
   ]
  },
  {
   "cell_type": "code",
   "execution_count": 26,
   "id": "b3a9fcbb",
   "metadata": {},
   "outputs": [
    {
     "name": "stdout",
     "output_type": "stream",
     "text": [
      "Overwriting tdeamons.py\n"
     ]
    }
   ],
   "source": [
    "%%writefile tdeamons.py\n",
    "import threading\n",
    "import time\n",
    "import logging\n",
    "\n",
    "def daemon():\n",
    "    print('Starting',threading.current_thread().getName())\n",
    "    time.sleep(5)\n",
    "    print('Exiting',threading.current_thread().getName())\n",
    "\n",
    "\n",
    "def non_daemon():\n",
    "    print('Starting',threading.current_thread().getName())\n",
    "    time.sleep(2)\n",
    "    print('Exiting',threading.current_thread().getName())\n",
    "\n",
    "d = threading.Thread(name='daemon', target=daemon, daemon=True)\n",
    "\n",
    "t = threading.Thread(name='non-daemon', target=non_daemon, daemon=False)\n",
    "\n",
    "d.start()\n",
    "t.start()\n",
    "\n",
    "#d.join()"
   ]
  },
  {
   "cell_type": "markdown",
   "id": "45277577",
   "metadata": {},
   "source": [
    "If you want the main program (thread) to wait until a daemon thread has completed its work, use the `join()` method. (Try it in the previous example!)\n",
    "\n",
    "- By default, `join()` blocks indefinitely. It is also possible to pass a float value representing the number of seconds to wait for the thread to become inactive. If the thread does not complete within the timeout period, `join()` returns anyway.\n",
    "- `join()` is useful not only with deamon threads, as it can act as a barrier for non-Daemon threads."
   ]
  },
  {
   "cell_type": "code",
   "execution_count": 29,
   "id": "06285808",
   "metadata": {},
   "outputs": [
    {
     "name": "stdout",
     "output_type": "stream",
     "text": [
      "Starting daemon\n",
      "Starting non-daemon\n",
      "Exiting non-daemon\n"
     ]
    }
   ],
   "source": [
    "!python tdeamons.py"
   ]
  },
  {
   "cell_type": "markdown",
   "id": "0cf2e814",
   "metadata": {},
   "source": [
    "----\n",
    "\n",
    "## Enumerating over all active threads\n",
    "\n",
    "It is not necessary to retain an explicit handle to all of the daemon threads in order to ensure they have completed before exiting the main process. `enumerate()` returns a list of active Thread instances. The list includes the current thread, and since joining the current thread introduces a deadlock situation, it must be skipped.\n",
    "\n",
    "----"
   ]
  },
  {
   "cell_type": "code",
   "execution_count": 63,
   "id": "077bbfbf",
   "metadata": {},
   "outputs": [
    {
     "name": "stdout",
     "output_type": "stream",
     "text": [
      "<_MainThread(MainThread, started 23422740358976)>\n",
      "<Thread(Thread-3, started daemon 23422690563840)>\n",
      "<Heartbeat(Thread-4, started daemon 23422688462592)>\n",
      "<Thread(Thread-5, started daemon 23422682158848)>\n",
      "<Thread(Thread-6, started daemon 23422680057600)>\n",
      "<ControlThread(Thread-2, started daemon 23422677956352)>\n",
      "<HistorySavingThread(IPythonHistorySavingThread, started 23422675855104)>\n",
      "<ParentPollerUnix(Thread-1, started daemon 23422673491712)>\n"
     ]
    }
   ],
   "source": [
    "#%%writefile print_active_threads.py\n",
    "#import threading\n",
    "\n",
    "#print out all active threads\n",
    "for t in threading.enumerate():\n",
    "    print(t)"
   ]
  },
  {
   "cell_type": "code",
   "execution_count": 62,
   "id": "2ac83c5e",
   "metadata": {},
   "outputs": [
    {
     "name": "stdout",
     "output_type": "stream",
     "text": [
      "<_MainThread(MainThread, started 23207208236864)>\r\n"
     ]
    }
   ],
   "source": [
    "!python print_active_threads.py"
   ]
  },
  {
   "cell_type": "code",
   "execution_count": 54,
   "id": "f8c3db5a",
   "metadata": {},
   "outputs": [
    {
     "name": "stdout",
     "output_type": "stream",
     "text": [
      "Overwriting threads_enumarate.py\n"
     ]
    }
   ],
   "source": [
    "%%writefile threads_enumarate.py\n",
    "import random\n",
    "import threading\n",
    "import time\n",
    "\n",
    "def worker(pause):\n",
    "    \"\"\"thread worker function\"\"\"\n",
    "    id=threading.current_thread().native_id\n",
    "    print('Thread {} sleeping for {}'.format(id,pause))\n",
    "    time.sleep(pause)\n",
    "    print('Thread {} is awake!'.format(id,pause))\n",
    "    return(pause)\n",
    "    \n",
    "start = time.perf_counter()\n",
    "\n",
    "for i in range(5):\n",
    "    t = threading.Thread(target=worker, args=[i],daemon=True)\n",
    "    t.start()\n",
    "\n",
    "#main_thread = threading.main_thread()\n",
    "#\n",
    "#for t in threading.enumerate():\n",
    "#    if t is main_thread:\n",
    "#        continue\n",
    "#    t.join()\n",
    "#    print('joined %s' % t.native_id)\n",
    "\n",
    "end = time.perf_counter()\n",
    "print('Finished in {} sec'.format(round(end-start)))"
   ]
  },
  {
   "cell_type": "code",
   "execution_count": 55,
   "id": "c49eaf5e",
   "metadata": {},
   "outputs": [
    {
     "name": "stdout",
     "output_type": "stream",
     "text": [
      "Thread 4606 sleeping for 0\n",
      "Thread 4606 is awake!\n",
      "Thread 4607 sleeping for 1\n",
      "Thread 4608 sleeping for 2\n",
      "Thread 4609 sleeping for 3\n",
      "Thread 4610 sleeping for 4\n",
      "Thread 4607 is awake!\n",
      "joined 4607\n",
      "Thread 4608 is awake!\n",
      "joined 4608\n",
      "Thread 4609 is awake!\n",
      "joined 4609\n",
      "Thread 4610 is awake!\n",
      "joined 4610\n",
      "Finished in 4 sec\n"
     ]
    }
   ],
   "source": [
    "!python threads_enumarate.py"
   ]
  },
  {
   "cell_type": "markdown",
   "id": "52725e23",
   "metadata": {},
   "source": [
    "---\n",
    "## Signaling Between Threads\n",
    "\n",
    "Although the point of using multiple threads is to run separate operations concurrently, there are times when it is important to be able to synchronize the operations in two or more threads. Event objects are a simple way to communicate between threads safely.\n",
    "\n",
    "An Event manages an internal flag that callers can control with the `set()` and `clear()` methods. Other threads can use `wait()` to pause until the flag is set, effectively blocking progress until allowed to continue.\n",
    "\n",
    "---"
   ]
  },
  {
   "cell_type": "code",
   "execution_count": 8,
   "id": "584afe5f",
   "metadata": {},
   "outputs": [
    {
     "name": "stderr",
     "output_type": "stream",
     "text": [
      "(block     ) wait_for_event starting\n",
      "(nonblock  ) wait_for_event_timeout starting\n",
      "(MainThread) No thread will do anything because each thread is waiting for Event.set() to be called\n",
      "(MainThread) Event is set\n",
      "(block     ) event set: True\n",
      "(nonblock  ) event set: True\n",
      "(nonblock  ) processing event\n"
     ]
    }
   ],
   "source": [
    "import logging\n",
    "import threading\n",
    "import time\n",
    "\n",
    "def wait_for_event(e):\n",
    "    \"\"\"Wait for the event to be set before doing anything\"\"\"\n",
    "    logging.debug('wait_for_event starting')\n",
    "    event_is_set = e.wait()\n",
    "    logging.debug('event set: %s', event_is_set)\n",
    "\n",
    "def wait_for_event_timeout(e, t):\n",
    "    \"\"\"Wait t seconds and then timeout\"\"\"\n",
    "    while not e.is_set():\n",
    "        logging.debug('wait_for_event_timeout starting')\n",
    "        event_is_set = e.wait(t)\n",
    "        logging.debug('event set: %s', event_is_set)\n",
    "        if event_is_set:\n",
    "            logging.debug('processing event')\n",
    "        else:\n",
    "            logging.debug('doing other work')\n",
    "\n",
    "logging.basicConfig(\n",
    "    level=logging.DEBUG,\n",
    "    format='(%(threadName)-10s) %(message)s',\n",
    ")\n",
    "\n",
    "#initialize the event object\n",
    "e = threading.Event()\n",
    "\n",
    "# initialize thread 1 and name it block, because it will wait indefinitely for an event to be set\n",
    "t1 = threading.Thread(\n",
    "    name='block',\n",
    "    target=wait_for_event,\n",
    "    args=(e,),\n",
    ")\n",
    "t1.start()\n",
    "\n",
    "# initialize thread 1 and name it block, because it will wait for an event to be set or timeout, whichever comes first\n",
    "t2 = threading.Thread(\n",
    "    name='nonblock',\n",
    "    target=wait_for_event_timeout,\n",
    "    args=(e, 5),\n",
    ")\n",
    "t2.start()\n",
    "\n",
    "logging.debug('No thread will do anything because each thread is waiting for Event.set() to be called')\n",
    "time.sleep(3)\n",
    "e.set()\n",
    "logging.debug('Event is set')\n",
    "\n"
   ]
  },
  {
   "cell_type": "markdown",
   "id": "c6a67072",
   "metadata": {},
   "source": [
    "----\n",
    "## Controlling Access to Resources\n",
    "\n",
    "\n",
    "In addition to synchronizing the operations of threads, it is also important to be able to control access to shared resources to prevent corruption or missed data.\n",
    "\n",
    "Python’s built-in data structures (lists, dictionaries, etc.) are thread-safe but data structures implemented in Python, or simpler types like integers and floats, do not have that protection.\n",
    "\n",
    "To guard against simultaneous access to an object, use a `Lock` object.\n",
    "\n",
    "----"
   ]
  },
  {
   "cell_type": "code",
   "execution_count": 1,
   "id": "94874da4",
   "metadata": {},
   "outputs": [
    {
     "name": "stdout",
     "output_type": "stream",
     "text": [
      "Overwriting t_lock.py\n"
     ]
    }
   ],
   "source": [
    "%%writefile t_lock.py\n",
    "import logging\n",
    "import random\n",
    "import threading\n",
    "import time\n",
    "\n",
    "class Counter:\n",
    "    def __init__(self, start=0):\n",
    "        self.lock = threading.Lock()\n",
    "        self.value = start\n",
    "\n",
    "    def increment(self):\n",
    "        logging.debug('Waiting for lock')\n",
    "        #aquire lock ... This will block all other threads from incrementing value\n",
    "        self.lock.acquire()\n",
    "        logging.debug('Acquired lock')\n",
    "        #try to increment value, if there is no lock on the value\n",
    "        try:\n",
    "            logging.debug('Incrementing')\n",
    "            #increment value\n",
    "            self.value = self.value + 1\n",
    "        finally:\n",
    "            logging.debug('Releasing lock')\n",
    "            #Release value\n",
    "            self.lock.release()\n",
    "\n",
    "def worker(c):\n",
    "    for i in range(2):\n",
    "        if threading.current_thread().name == \"Thread-1\":\n",
    "            pause = 1\n",
    "        else:\n",
    "            pause = 5 \n",
    "        logging.debug('Sleeping %0.02f', pause)\n",
    "        time.sleep(pause)\n",
    "        c.increment()\n",
    "    logging.debug('Done')\n",
    "\n",
    "    \n",
    "logging.basicConfig(\n",
    "    level=logging.DEBUG,\n",
    "    format='(%(threadName)-10s) %(message)s',\n",
    ")\n",
    "\n",
    "counter = Counter()\n",
    "for i in range(2):\n",
    "    t = threading.Thread(target=worker, args=(counter,))\n",
    "    t.start()\n",
    "\n",
    "logging.debug('Waiting for worker threads')\n",
    "main_thread = threading.main_thread()\n",
    "for t in threading.enumerate():\n",
    "    if t is not main_thread:\n",
    "        t.join()\n",
    "\n",
    "logging.debug('Counter: %d', counter.value)"
   ]
  },
  {
   "cell_type": "code",
   "execution_count": 2,
   "id": "48cc9f0a",
   "metadata": {},
   "outputs": [
    {
     "name": "stdout",
     "output_type": "stream",
     "text": [
      "(Thread-1  ) Sleeping 1.00\n",
      "(Thread-2  ) Sleeping 5.00\n",
      "(MainThread) Waiting for worker threads\n",
      "(Thread-1  ) Waiting for lock\n",
      "(Thread-1  ) Acquired lock\n",
      "(Thread-1  ) Incrementing\n",
      "(Thread-1  ) Releasing lock\n",
      "(Thread-1  ) Sleeping 1.00\n",
      "(Thread-1  ) Waiting for lock\n",
      "(Thread-1  ) Acquired lock\n",
      "(Thread-1  ) Incrementing\n",
      "(Thread-1  ) Releasing lock\n",
      "(Thread-1  ) Done\n",
      "(Thread-2  ) Waiting for lock\n",
      "(Thread-2  ) Acquired lock\n",
      "(Thread-2  ) Incrementing\n",
      "(Thread-2  ) Releasing lock\n",
      "(Thread-2  ) Sleeping 5.00\n",
      "(Thread-2  ) Waiting for lock\n",
      "(Thread-2  ) Acquired lock\n",
      "(Thread-2  ) Incrementing\n",
      "(Thread-2  ) Releasing lock\n",
      "(Thread-2  ) Done\n",
      "(MainThread) Counter: 4\n"
     ]
    }
   ],
   "source": [
    "!python t_lock.py"
   ]
  },
  {
   "cell_type": "markdown",
   "id": "46cfa051",
   "metadata": {},
   "source": [
    "#### `Lock()` vs `Rlock()`\n",
    "\n",
    "The main difference is that a `Lock` can only be acquired once. It cannot be acquired again, until it is released. (After it's been released, it can be re-acaquired by any thread).\n",
    "\n",
    "An `RLock` on the other hand, can be acquired multiple times, by the same thread. It needs to be released the same number of times in order to be \"unlocked\".\n",
    "\n",
    "Another difference is that an acquired Lock can be released by any thread, while an acquired RLock can only be released by the thread which acquired it."
   ]
  },
  {
   "cell_type": "markdown",
   "id": "337e1a67",
   "metadata": {},
   "source": [
    "## Synchronizing Threads\n",
    "### Condition\n",
    "\n",
    "In addition to using `Events`, another way of synchronizing threads is through using a `Condition` object. Because the `Condition` uses a `Lock`, it can be tied to a shared resource, allowing multiple threads to wait for the resource to be updated. In this example, the `consumer()` threads wait for the `Condition` to be set before continuing. The `producer()` thread is responsible for setting the condition and notifying the other threads that they can continue."
   ]
  },
  {
   "cell_type": "code",
   "execution_count": 53,
   "id": "ac862ede",
   "metadata": {},
   "outputs": [
    {
     "name": "stderr",
     "output_type": "stream",
     "text": [
      "2022-04-26 16:41:48,021 (consumer 1) Starting consumer thread\n",
      "2022-04-26 16:41:48,023 (consumer 2) Starting consumer thread\n",
      "2022-04-26 16:41:48,030 (producer) Starting producer thread\n",
      "2022-04-26 16:41:53,036 (producer) Making resource available\n",
      "2022-04-26 16:41:53,037 (consumer 2) Resource is available to consumer\n",
      "2022-04-26 16:41:53,039 (consumer 1) Resource is available to consumer\n"
     ]
    }
   ],
   "source": [
    "import logging\n",
    "import threading\n",
    "import time\n",
    "\n",
    "\n",
    "def consumer(cond):\n",
    "    \"\"\"wait for the condition and use the resource\"\"\"\n",
    "    logging.debug('Starting consumer thread')\n",
    "    with cond:\n",
    "        cond.wait()\n",
    "        logging.debug('Resource is available to consumer')\n",
    "\n",
    "\n",
    "def producer(cond):\n",
    "    \"\"\"set up the resource to be used by the consumer\"\"\"\n",
    "    logging.debug('Starting producer thread')\n",
    "    time.sleep(5)\n",
    "    with cond:\n",
    "        logging.debug('Making resource available')\n",
    "        cond.notifyAll()\n",
    "\n",
    "\n",
    "logging.basicConfig(\n",
    "    level=logging.DEBUG,\n",
    "    format='%(asctime)s (%(threadName)-2s) %(message)s',\n",
    ")\n",
    "\n",
    "condition = threading.Condition()\n",
    "c1 = threading.Thread(name='consumer 1', target=consumer,\n",
    "                      args=(condition,))\n",
    "c2 = threading.Thread(name='consumer 2', target=consumer,\n",
    "                      args=(condition,))\n",
    "p = threading.Thread(name='producer', target=producer,\n",
    "                     args=(condition,))\n",
    "\n",
    "c1.start()\n",
    "c2.start()\n",
    "p.start()"
   ]
  },
  {
   "cell_type": "markdown",
   "id": "2623d06c",
   "metadata": {},
   "source": [
    "### Barriers\n",
    "\n",
    "Barriers are another thread synchronization mechanism. A Barrier establishes a control point and all participating threads block until all of the participating “parties” have reached that point. It lets threads start up separately and then pause until they are all ready to proceed."
   ]
  },
  {
   "cell_type": "code",
   "execution_count": 58,
   "id": "d73d0875",
   "metadata": {},
   "outputs": [
    {
     "name": "stdout",
     "output_type": "stream",
     "text": [
      "worker-0 starting\n",
      "worker-0 waiting for barrier with 0 others\n",
      "worker-1 starting\n",
      "worker-1 waiting for barrier with 1 others\n",
      "worker-2 starting\n",
      "worker-2 waiting for barrier with 2 others\n",
      "worker-2  after barrier. Worker Id:  2\n",
      "worker-0worker-1  after barrier. Worker Id:  0\n",
      "  after barrier. Worker Id:  1\n"
     ]
    }
   ],
   "source": [
    "import threading\n",
    "import time\n",
    "\n",
    "def worker(barrier):\n",
    "    print(threading.current_thread().name,\n",
    "          'waiting for barrier with {} others'.format(barrier.n_waiting))\n",
    "    worker_id = barrier.wait()\n",
    "    print(threading.current_thread().name,' after barrier. Worker Id: ',worker_id)\n",
    "\n",
    "NUM_THREADS = 3\n",
    "\n",
    "barrier = threading.Barrier(NUM_THREADS)\n",
    "\n",
    "threads = [\n",
    "    threading.Thread(\n",
    "        name='worker-%s' % i,\n",
    "        target=worker,\n",
    "        args=(barrier,),\n",
    "    )\n",
    "    for i in range(NUM_THREADS)\n",
    "]\n",
    "\n",
    "for t in threads:\n",
    "    print(t.name, 'starting')\n",
    "    t.start()\n",
    "    time.sleep(3)\n",
    "\n",
    "for t in threads:\n",
    "    t.join()"
   ]
  },
  {
   "cell_type": "markdown",
   "id": "82d8c67f",
   "metadata": {},
   "source": [
    "### Semaphores\n",
    "\n",
    "Sometimes it is useful to allow more than one worker access to a resource at a time, while still limiting the overall number.\n",
    "For example, a connection pool might support a fixed number of simultaneous connections, or a network application might support a fixed number of concurrent downloads. A `Semaphore` is one way to manage those connections."
   ]
  },
  {
   "cell_type": "code",
   "execution_count": 63,
   "id": "4706f4ab",
   "metadata": {},
   "outputs": [
    {
     "name": "stderr",
     "output_type": "stream",
     "text": [
      "2022-04-26 16:56:09,510 (0 ) Waiting to join the pool\n",
      "2022-04-26 16:56:09,514 (0 ) Running: ['0']\n",
      "2022-04-26 16:56:09,513 (2 ) Waiting to join the pool\n",
      "2022-04-26 16:56:09,515 (3 ) Waiting to join the pool\n",
      "2022-04-26 16:56:09,515 (4 ) Waiting to join the pool\n",
      "2022-04-26 16:56:09,517 (2 ) Running: ['0', '2']\n",
      "2022-04-26 16:56:09,511 (1 ) Waiting to join the pool\n",
      "2022-04-26 16:56:11,374 (15) Running: ['16', '17', '18', '19']\n",
      "2022-04-26 16:56:11,376 (16) Running: ['17', '18', '19']\n",
      "2022-04-26 16:56:11,396 (18) Running: ['17', '19']\n",
      "2022-04-26 16:56:11,398 (17) Running: ['19']\n",
      "2022-04-26 16:56:11,400 (19) Running: []\n",
      "2022-04-26 16:56:13,519 (0 ) Running: ['2']\n",
      "2022-04-26 16:56:13,521 (3 ) Running: ['2', '3']\n",
      "2022-04-26 16:56:13,524 (2 ) Running: ['3']\n",
      "2022-04-26 16:56:13,526 (4 ) Running: ['3', '4']\n",
      "2022-04-26 16:56:17,526 (3 ) Running: ['4']\n",
      "2022-04-26 16:56:17,527 (1 ) Running: ['4', '1']\n",
      "2022-04-26 16:56:17,529 (4 ) Running: ['1']\n",
      "2022-04-26 16:56:21,533 (1 ) Running: []\n"
     ]
    }
   ],
   "source": [
    "import logging\n",
    "import random\n",
    "import threading\n",
    "import time\n",
    "\n",
    "class ActivePool:\n",
    "\n",
    "    def __init__(self):\n",
    "        super(ActivePool, self).__init__()\n",
    "        self.active = []\n",
    "        self.lock = threading.Lock()\n",
    "\n",
    "    def makeActive(self, name):\n",
    "        with self.lock:\n",
    "            self.active.append(name)\n",
    "            logging.debug('Running: %s', self.active)\n",
    "\n",
    "    def makeInactive(self, name):\n",
    "        with self.lock:\n",
    "            self.active.remove(name)\n",
    "            logging.debug('Running: %s', self.active)\n",
    "\n",
    "def worker(s, pool):\n",
    "    logging.debug('Waiting to join the pool')\n",
    "    with s:\n",
    "        name = threading.current_thread().getName()\n",
    "        pool.makeActive(name)\n",
    "        time.sleep(4)\n",
    "        pool.makeInactive(name)\n",
    "\n",
    "logging.basicConfig(\n",
    "    level=logging.DEBUG,\n",
    "    format='%(asctime)s (%(threadName)-2s) %(message)s',\n",
    ")\n",
    "\n",
    "pool = ActivePool()\n",
    "s = threading.Semaphore(2)\n",
    "for i in range(5):\n",
    "    t = threading.Thread(\n",
    "        target=worker,\n",
    "        name=str(i),\n",
    "        args=(s, pool),\n",
    "    )\n",
    "    t.start()"
   ]
  },
  {
   "cell_type": "markdown",
   "id": "3ae3a128",
   "metadata": {},
   "source": [
    "In this example, the ActivePool class simply serves as a convenient way to track which threads are able to run at a given moment. A real resource pool would allocate a connection or some other value to the newly active thread, and reclaim the value when the thread is done. Here, it is just used to hold the names of the active threads to show that at most two are running concurrently."
   ]
  },
  {
   "cell_type": "markdown",
   "id": "0e71dac8",
   "metadata": {},
   "source": [
    "### Thread-specific Data\n",
    "\n",
    "While some resources need to be locked so multiple threads can use them, others need to be protected so that they are hidden from threads that do not own them. The `local()` class creates an object capable of hiding values from view in separate threads."
   ]
  },
  {
   "cell_type": "code",
   "execution_count": 64,
   "id": "67490e49",
   "metadata": {},
   "outputs": [
    {
     "name": "stderr",
     "output_type": "stream",
     "text": [
      "2022-04-26 16:58:38,552 (MainThread) No value yet\n",
      "2022-04-26 16:58:38,555 (MainThread) value=1000\n",
      "2022-04-26 16:58:38,562 (Thread-7) No value yet\n",
      "2022-04-26 16:58:38,563 (Thread-8) No value yet\n",
      "2022-04-26 16:58:38,564 (Thread-7) value=65\n",
      "2022-04-26 16:58:38,566 (Thread-8) value=60\n"
     ]
    }
   ],
   "source": [
    "import random\n",
    "import threading\n",
    "import logging\n",
    "\n",
    "def show_value(data):\n",
    "    try:\n",
    "        val = data.value\n",
    "    except AttributeError:\n",
    "        logging.debug('No value yet')\n",
    "    else:\n",
    "        logging.debug('value=%s', val)\n",
    "\n",
    "def worker(data):\n",
    "    show_value(data)\n",
    "    data.value = random.randint(1, 100)\n",
    "    show_value(data)\n",
    "\n",
    "logging.basicConfig(\n",
    "    level=logging.DEBUG,\n",
    "    format='(%(threadName)-10s) %(message)s',\n",
    ")\n",
    "\n",
    "local_data = threading.local()\n",
    "show_value(local_data)\n",
    "local_data.value = 1000\n",
    "show_value(local_data)\n",
    "\n",
    "for i in range(2):\n",
    "    t = threading.Thread(target=worker, args=(local_data,))\n",
    "    t.start()"
   ]
  },
  {
   "cell_type": "code",
   "execution_count": null,
   "id": "d9d64c42",
   "metadata": {},
   "outputs": [],
   "source": []
  }
 ],
 "metadata": {
  "kernelspec": {
   "display_name": "Python 3 (ipykernel)",
   "language": "python",
   "name": "python3"
  },
  "language_info": {
   "codemirror_mode": {
    "name": "ipython",
    "version": 3
   },
   "file_extension": ".py",
   "mimetype": "text/x-python",
   "name": "python",
   "nbconvert_exporter": "python",
   "pygments_lexer": "ipython3",
   "version": "3.9.5"
  }
 },
 "nbformat": 4,
 "nbformat_minor": 5
}
